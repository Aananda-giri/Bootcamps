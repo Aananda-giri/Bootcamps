{
  "nbformat": 4,
  "nbformat_minor": 0,
  "metadata": {
    "colab": {
      "provenance": [],
      "authorship_tag": "ABX9TyPdj6hh++rKSBCVoYUkxMi6",
      "include_colab_link": true
    },
    "kernelspec": {
      "name": "python3",
      "display_name": "Python 3"
    },
    "language_info": {
      "name": "python"
    }
  },
  "cells": [
    {
      "cell_type": "markdown",
      "metadata": {
        "id": "view-in-github",
        "colab_type": "text"
      },
      "source": [
        "<a href=\"https://colab.research.google.com/github/Aananda-giri/Bootcamps/blob/nnfs_book/nns.ipynb\" target=\"_parent\"><img src=\"https://colab.research.google.com/assets/colab-badge.svg\" alt=\"Open In Colab\"/></a>"
      ]
    },
    {
      "cell_type": "code",
      "execution_count": null,
      "metadata": {
        "id": "JcQ8L4_BxuQM"
      },
      "outputs": [],
      "source": []
    },
    {
      "cell_type": "markdown",
      "source": [
        "NOT gate using neural networks. inputs are one of 0,1. Output is 1 when input is 0. output is 0 when input is 1."
      ],
      "metadata": {
        "id": "Vz1LIZlixziR"
      }
    },
    {
      "cell_type": "markdown",
      "source": [
        "# chapter-2"
      ],
      "metadata": {
        "id": "Mxo3PZG20XPC"
      }
    },
    {
      "cell_type": "code",
      "source": [
        "# Single Neuron\n",
        "import numpy as np\n",
        "\n",
        "inputs = [1,2,3]\n",
        "weights = [.2,.8,-.5] # each incoming connection to a neuron have one weight\n",
        "bias = 2  # each neuron have single bias\n",
        "output = (inputs[0]*weights[0] + inputs[1]*weights[1] + inputs[2]*weights[2] + bias)\n",
        "output"
      ],
      "metadata": {
        "colab": {
          "base_uri": "https://localhost:8080/"
        },
        "id": "52pm-DJ6x1wH",
        "outputId": "3428d6d4-334d-4305-948e-87b18b3b412e"
      },
      "execution_count": null,
      "outputs": [
        {
          "output_type": "execute_result",
          "data": {
            "text/plain": [
              "2.3"
            ]
          },
          "metadata": {},
          "execution_count": 2
        }
      ]
    },
    {
      "cell_type": "code",
      "source": [
        "# A layer of neurons (3 neurons)\n",
        "inputs = [1, 2, 3, 2.5]\n",
        "\n",
        "weights1 = [0.2, 0.8, -0.5, 1]\n",
        "weights2 = [0.5, -0.91, 0.26, -0.5]\n",
        "weights3 = [-0.26, -0.27, 0.17, 0.87]\n",
        "\n",
        "bias1 = 2\n",
        "bias2 = 3\n",
        "bias3 = 0.5\n",
        "\n",
        "outputs = [\n",
        "    # Neuron 1:\n",
        "    inputs[0] * weights1[0] + inputs[1] * weights1[1] + inputs[2] * weights1[2] + inputs[3] * weights1[3] + bias1,\n",
        "\n",
        "    # Neuron 2:\n",
        "    inputs[0] * weights2[0] + inputs[1] * weights2[1] + inputs[2] * weights2[2] + inputs[3] * weights3[2] + bias2,\n",
        "\n",
        "    # Neuron 3:\n",
        "    inputs[0] * weights3[0] + inputs[1] * weights3[1] + inputs[2] * weights3[2] + inputs[3] * weights3[3] + bias3\n",
        "    ]\n",
        "outputs"
      ],
      "metadata": {
        "colab": {
          "base_uri": "https://localhost:8080/"
        },
        "id": "EJUpbHaegY0i",
        "outputId": "1ccab713-5877-4274-87e2-0814ba20a7ed"
      },
      "execution_count": null,
      "outputs": [
        {
          "output_type": "execute_result",
          "data": {
            "text/plain": [
              "[4.8, 2.885, 2.385]"
            ]
          },
          "metadata": {},
          "execution_count": 10
        }
      ]
    },
    {
      "cell_type": "markdown",
      "source": [
        "* Python list: Comma seperated objectss within brackets\n",
        "* Array: Homogeneous list (i.e. rows have same number of columns)\n",
        "* matrix: Rectangular Array\n",
        "tensor: Objects that can be represented as an * array\n",
        "Vector: 1-D array in numpy"
      ],
      "metadata": {
        "id": "z2dK6ZD4p9mM"
      }
    },
    {
      "cell_type": "code",
      "source": [
        "# Layer of neurons in numpy\n",
        "import numpy as np\n",
        "\n",
        "inputs = [1.0, 2.0, 3.0, 2.5]\n",
        "\n",
        "weights = [[0.2, 0.8, -0.5, 1],\n",
        " [0.5, -0.91, 0.26, -0.5],\n",
        " [-0.26, -0.27, 0.17, 0.87]]\n",
        "\n",
        "biases = [2.0, 3.0, 0.5]\n",
        "\n",
        "layer_outputs = np.dot(weights, inputs) + biases\n",
        "print(layer_outputs)\n",
        "\n",
        "\n",
        "'''\n",
        "* In np.dot: whatever come first determines the shape\n",
        "* np.dot(weights, inputs) = [np.dot(weights[0], inputs), np.dot(weights[1], inputs), np.dot(weights[2], inputs)]\n",
        "'''"
      ],
      "metadata": {
        "colab": {
          "base_uri": "https://localhost:8080/",
          "height": 72
        },
        "id": "CrZPjAzRiLsa",
        "outputId": "83a55868-fb71-4a82-8c11-439c7e04b611"
      },
      "execution_count": null,
      "outputs": [
        {
          "output_type": "stream",
          "name": "stdout",
          "text": [
            "[4.8   1.21  2.385]\n"
          ]
        },
        {
          "output_type": "execute_result",
          "data": {
            "text/plain": [
              "'\\n* In np.dot: whatever come first determines the shape\\n* np.dot(weights, inputs) = [np.dot(weights[0], inputs), np.dot(weights[1], inputs), np.dot(weights[2], inputs)]\\n'"
            ],
            "application/vnd.google.colaboratory.intrinsic+json": {
              "type": "string"
            }
          },
          "metadata": {},
          "execution_count": 13
        }
      ]
    },
    {
      "cell_type": "code",
      "source": [
        "# A batch of data\n",
        "'''\n",
        "  neural networks tend to receive data in batches\n",
        "'''\n"
      ],
      "metadata": {
        "id": "3yf_5CzWrXAx"
      },
      "execution_count": null,
      "outputs": []
    },
    {
      "cell_type": "code",
      "source": [
        "np.array([[1,2,3]])\n"
      ],
      "metadata": {
        "colab": {
          "base_uri": "https://localhost:8080/"
        },
        "id": "jWKE_twCvZUf",
        "outputId": "fa20454a-7313-4a8b-8303-cb9e36a2d527"
      },
      "execution_count": null,
      "outputs": [
        {
          "output_type": "execute_result",
          "data": {
            "text/plain": [
              "array([[1, 2, 3]])"
            ]
          },
          "metadata": {},
          "execution_count": 19
        }
      ]
    },
    {
      "cell_type": "code",
      "source": [
        "a = [1, 2, 3]\n",
        "np.array(a).shape # (3,)\n",
        "# np.expand_dims(np.array(a), axis=0).shape"
      ],
      "metadata": {
        "colab": {
          "base_uri": "https://localhost:8080/"
        },
        "id": "TAI7j8qCvrmL",
        "outputId": "507302ba-ab73-417b-9ec3-7b6fb0353ab3"
      },
      "execution_count": null,
      "outputs": [
        {
          "output_type": "execute_result",
          "data": {
            "text/plain": [
              "(3,)"
            ]
          },
          "metadata": {},
          "execution_count": 31
        }
      ]
    },
    {
      "cell_type": "code",
      "source": [
        "# Inputs in Batches\n",
        "import numpy as np\n",
        "inputs = [\n",
        "    [1.0, 2.0, 3.0, 2.5],\n",
        "    [2.0, 5.0, -1.0, 2.0],\n",
        "    [-1.5, 2.7, 3.3, -0.8]\n",
        "    ]\n",
        "\n",
        "weights = [\n",
        "    [0.2, 0.8, -0.5, 1.0],\n",
        "    [0.5, -0.91, 0.26, -0.5],\n",
        "    [-0.26, -0.27, 0.17, 0.87]\n",
        "  ]\n",
        "\n",
        "biases = [2.0, 3.0, 0.5]\n",
        "'''\n",
        "Error because i/p is 3*4 and weights is (3*4) : incompatable for matrix. mult.\n",
        "layer_outputs = np.dot(inputs, np.array(weights)) + biases\n",
        "'''\n",
        "\n",
        "# Transpose the weights\n",
        "layer_outputs = np.dot(inputs, np.array(weights).T) + biases\n",
        "layer_outputs"
      ],
      "metadata": {
        "id": "5yKP9kk9wL7H",
        "colab": {
          "base_uri": "https://localhost:8080/"
        },
        "outputId": "ab96dd6a-6054-4956-8aa7-86eec2a6599e"
      },
      "execution_count": null,
      "outputs": [
        {
          "output_type": "execute_result",
          "data": {
            "text/plain": [
              "array([[ 4.8  ,  1.21 ,  2.385],\n",
              "       [ 8.9  , -1.81 ,  0.2  ],\n",
              "       [ 1.41 ,  1.051,  0.026]])"
            ]
          },
          "metadata": {},
          "execution_count": 6
        }
      ]
    },
    {
      "cell_type": "markdown",
      "source": [
        "# Ch.3 Adding Layers"
      ],
      "metadata": {
        "id": "Lqb_5oBrjoss"
      }
    },
    {
      "cell_type": "code",
      "source": [
        "# Adding Second layer\n",
        "import numpy as np\n",
        "\n",
        "inputs = [[1, 2, 3, 2.5],\n",
        " [2., 5., -1., 2],\n",
        " [-1.5, 2.7, 3.3, -0.8]]\n",
        "\n",
        "weights1 = [[0.2, 0.8, -0.5, 1],\n",
        " [0.5, -0.91, 0.26, -0.5],\n",
        " [-0.26, -0.27, 0.17, 0.87]]\n",
        "\n",
        "biases1 = [2, 3, 0.5]\n",
        "\n",
        "weights2 = [[0.1, -0.14, 0.5],\n",
        " [-0.5, 0.12, -0.33],\n",
        " [-0.44, 0.73, -0.13]]\n",
        "\n",
        "biases2 = [-1, 2, -0.5]\n",
        "\n",
        "layer_1_outputs = np.dot(inputs, np.array(weights1).T) + biases1\n",
        "layer_2_outputs = np.dot(layer_1_outputs, np.array(weights2).T) + biases2\n",
        "layer_2_outputs"
      ],
      "metadata": {
        "colab": {
          "base_uri": "https://localhost:8080/"
        },
        "id": "w-WmtXA2i2BT",
        "outputId": "04ec49fe-a4ee-4c08-a7aa-8f087c8a8397"
      },
      "execution_count": null,
      "outputs": [
        {
          "output_type": "execute_result",
          "data": {
            "text/plain": [
              "array([[ 0.5031 , -1.04185, -2.03875],\n",
              "       [ 0.2434 , -2.7332 , -5.7633 ],\n",
              "       [-0.99314,  1.41254, -0.35655]])"
            ]
          },
          "metadata": {},
          "execution_count": 10
        }
      ]
    },
    {
      "cell_type": "code",
      "source": [
        "# Non Linear Data\n",
        "!pip install nnfs -q\n",
        "from nnfs.datasets import spiral_data"
      ],
      "metadata": {
        "id": "oF295VVXkYZj"
      },
      "execution_count": null,
      "outputs": []
    },
    {
      "cell_type": "code",
      "source": [
        "import numpy as np\n",
        "import nnfs\n",
        "nnfs.init()\n",
        "\n",
        "import matplotlib.pyplot as plt\n",
        "X, Y = spiral_data(samples=100, classes=3)\n",
        "plt.scatter(X[:,0], X[:,1], c=y, cmap='brg')\n",
        "plt.show()"
      ],
      "metadata": {
        "colab": {
          "base_uri": "https://localhost:8080/",
          "height": 430
        },
        "id": "Zih9eVFek30i",
        "outputId": "102ad842-59df-4d0c-8564-4289e3d53455"
      },
      "execution_count": null,
      "outputs": [
        {
          "output_type": "display_data",
          "data": {
            "text/plain": [
              "<Figure size 640x480 with 1 Axes>"
            ],
            "image/png": "[encoded data removed]"
          },
          "metadata": {}
        }
      ]
    },
    {
      "cell_type": "code",
      "source": [
        "X.shape"
      ],
      "metadata": {
        "colab": {
          "base_uri": "https://localhost:8080/"
        },
        "id": "3W8hOt9OnxbR",
        "outputId": "f31d3b3e-b437-4096-ef3a-c91f914dea42"
      },
      "execution_count": null,
      "outputs": [
        {
          "output_type": "execute_result",
          "data": {
            "text/plain": [
              "(300, 2)"
            ]
          },
          "metadata": {},
          "execution_count": 26
        }
      ]
    },
    {
      "cell_type": "code",
      "source": [
        "# Define layer\n",
        "class Layer_Dense:\n",
        "    # Layer Initialization\n",
        "    def __init__(self, n_inputs, n_neurons):\n",
        "        # Initialize weights and biases\n",
        "        self.weights = 0.01 * np.random.randn(n_inputs, n_neurons)  # Initialize Small random weights\n",
        "        self.biases = np.zeros((1, n_neurons))  # Zero biases\n",
        "    def forward(self, inputs):\n",
        "        # Calculate output values from inputs, weights and biases\n",
        "        self.output = np.dot(inputs, self.weights) + self.biases\n",
        "\n",
        "\n",
        "X, y = spiral_data(samples=100, classes=3)\n",
        "\n",
        "# Generate Dense layer with two input and three output features (i.e. 3 neurons)\n",
        "dense1 = Layer_Dense(2,3)\n",
        "\n",
        "# Perform a forward pass of our training data through this layer\n",
        "dense1.forward(X)\n",
        "\n",
        "# Lets see the output for few samples\n",
        "print(dense1.output[:5])"
      ],
      "metadata": {
        "colab": {
          "base_uri": "https://localhost:8080/"
        },
        "id": "TsHh8xi7lbkp",
        "outputId": "dc26c8ab-0a77-46dc-c0e6-c6ae4e878d2a"
      },
      "execution_count": null,
      "outputs": [
        {
          "output_type": "stream",
          "name": "stdout",
          "text": [
            "[[ 0.00000000e+00  0.00000000e+00  0.00000000e+00]\n",
            " [-1.11171044e-04 -5.11007493e-05 -1.12099799e-04]\n",
            " [ 2.99257295e-06 -2.69126613e-04 -1.45165104e-04]\n",
            " [ 8.95101766e-05 -4.30442247e-04 -1.68079801e-04]\n",
            " [-3.49893759e-04 -3.07208364e-04 -4.33002861e-04]]\n"
          ]
        }
      ]
    },
    {
      "cell_type": "markdown",
      "source": [
        "# Ch. 4 Activation Functions"
      ],
      "metadata": {
        "id": "I-J9IdOvlO6T"
      }
    },
    {
      "cell_type": "code",
      "source": [
        "import numpy as np\n",
        "inputs = [0, 2, -1, 3.3, -2.7, 1.1, 2.2, -100]\n",
        "# Relu Activation\n",
        "outputs = np.maximum(0,inputs)\n",
        "outputs"
      ],
      "metadata": {
        "colab": {
          "base_uri": "https://localhost:8080/"
        },
        "id": "WUK49ba-sQUj",
        "outputId": "c2e95c00-a0d1-4e48-a348-5a8e625f4844"
      },
      "execution_count": null,
      "outputs": [
        {
          "output_type": "execute_result",
          "data": {
            "text/plain": [
              "array([0. , 2. , 0. , 3.3, 0. , 1.1, 2.2, 0. ])"
            ]
          },
          "metadata": {},
          "execution_count": 29
        }
      ]
    },
    {
      "cell_type": "code",
      "source": [
        "class Activation_Relu:\n",
        "    # Forward Pass\n",
        "    def forward(self, inputs):\n",
        "        # Calculate output values from inputs\n",
        "        self.output = np.maximum(0, inputs)\n",
        "\n",
        "# Let’s apply this activation function to the dense layer’s outputs in our code:\n",
        "X, y = spiral_data(samples=100, classes=3)\n",
        "\n",
        "# Create dense layer with 2 input features and 3 output  values\n",
        "dense1 = Layer_Dense(2,3)\n",
        "\n",
        "# Create ReLU activation (to be used with Dense layer):\n",
        "activation1 = Activation_Relu()\n",
        "\n",
        "# Make a forward pass of our training data through this layer\n",
        "dense1.forward(X)\n",
        "\n",
        "# Forward pass through activation func.\n",
        "# Takes in output from previous layer\n",
        "activation1.forward(dense1.output)\n",
        "\n",
        "# Let's see output of the first few samples:\n",
        "print(activation1.output[:5])"
      ],
      "metadata": {
        "colab": {
          "base_uri": "https://localhost:8080/"
        },
        "id": "ysoEJoZ-vs94",
        "outputId": "41accd12-daa1-4556-a3bc-17948bd292c3"
      },
      "execution_count": null,
      "outputs": [
        {
          "output_type": "stream",
          "name": "stdout",
          "text": [
            "[[0.0000000e+00 0.0000000e+00 0.0000000e+00]\n",
            " [1.3395325e-05 8.9631088e-05 0.0000000e+00]\n",
            " [2.0761197e-04 0.0000000e+00 2.2857983e-04]\n",
            " [3.2332254e-04 0.0000000e+00 3.9302220e-04]\n",
            " [2.4741559e-04 2.1847372e-04 1.6104690e-04]]\n"
          ]
        }
      ]
    },
    {
      "cell_type": "markdown",
      "source": [
        "# Softmax Activation\n",
        "* Relu is un-normalized (i.e. values can be anything)"
      ],
      "metadata": {
        "id": "dw2wEMRNwvmn"
      }
    },
    {
      "cell_type": "code",
      "source": [
        "import numpy as np\n",
        "\n",
        "layer_outputs = [4.8, 1.21, 2.385]\n",
        "exp_values = np.exp(layer_outputs)\n",
        "print(f'Exponentiated values: {exp_values}')\n",
        "\n",
        "norm_values = exp_values/np.sum(exp_values)\n",
        "print(f'norm_values: {norm_values}')\n",
        "\n",
        "print('sum of normalized values:', np.sum(norm_values))"
      ],
      "metadata": {
        "colab": {
          "base_uri": "https://localhost:8080/"
        },
        "id": "FcqtpEKbwtVQ",
        "outputId": "36388c36-67c4-4d09-95dd-f6d5c1228392"
      },
      "execution_count": null,
      "outputs": [
        {
          "output_type": "stream",
          "name": "stdout",
          "text": [
            "Exponentiated values: [121.51041752   3.35348465  10.85906266]\n",
            "norm_values: [0.89528266 0.02470831 0.08000903]\n",
            "sum of normalized values: 0.9999999999999999\n"
          ]
        }
      ]
    },
    {
      "cell_type": "markdown",
      "source": [
        "\n",
        "* For batch data we have to sum the exponentiated values column wise. i.e. axis=1\n",
        "* in a 2D array/matrix, axis 0 refers to the rows, and axis 1 refers to the\n",
        "columns.\n",
        "* default axis is zero. sum row-wise,\n"
      ],
      "metadata": {
        "id": "lk6hzxER1ZI2"
      }
    },
    {
      "cell_type": "code",
      "source": [
        "import numpy as np\n",
        "layer_outputs = np.array([[4.8, 1.21, 2.385],\n",
        " [8.9, -1.81, 0.2],\n",
        " [1.41, 1.051, 0.026]])\n",
        "\n",
        "print('Sum axis 1, but keep the same dimensions as input:')\n",
        "print(np.sum(layer_outputs, axis=1, keepdims=True))"
      ],
      "metadata": {
        "colab": {
          "base_uri": "https://localhost:8080/"
        },
        "id": "4pNQKZ9r2TlV",
        "outputId": "b28bd89b-8959-49ef-ec39-669b3a42c46e"
      },
      "execution_count": null,
      "outputs": [
        {
          "output_type": "stream",
          "name": "stdout",
          "text": [
            "Sum axis 1, but keep the same dimensions as input:\n",
            "[[8.395]\n",
            " [7.29 ]\n",
            " [2.487]]\n"
          ]
        }
      ]
    },
    {
      "cell_type": "code",
      "source": [
        "'''\n",
        "# Two main pervasive challenges\n",
        "1. “dead neurons”:\n",
        "\n",
        "2. Exploding Values: due to exponential function used in softmax activation\n",
        "* Substract maximum value by itself before calculation\n",
        "* With Softmax, thanks to the normalization, we can subtract any\n",
        "value from all of the inputs, and it will not change the output\n",
        "'''\n",
        "\n",
        "class Activation_Softmax:\n",
        "  def forward(self, inputs):\n",
        "      # Get unnormalized probabilities\n",
        "      exp_values = np.exp(inputs - np.max(inputs, axis=1, keepdims=True))\n",
        "\n",
        "      # Normalize them for each sample\n",
        "      probabilities = exp_values / np.sum(exp_values, axis=1, keepdims=True)\n",
        "      self.output = probabilities"
      ],
      "metadata": {
        "id": "_RbvptTf2npP"
      },
      "execution_count": null,
      "outputs": []
    },
    {
      "cell_type": "markdown",
      "source": [
        "# Ch.5 Calculating Network Error with Loss"
      ],
      "metadata": {
        "id": "D0twEvWDAVVA"
      }
    },
    {
      "cell_type": "code",
      "source": [
        "# Loss\n",
        "# ------------------------------------------------q\n",
        "#  loss is a useful metric for optimizing a model\n",
        "import math\n",
        "\n",
        "'''\n",
        "softmax_loss = - sum( target * log(prediction) )\n",
        "'''\n",
        "\n",
        "softmax_output = [.7,.1,.2]\n",
        "target_output = [1,0,0]\n",
        "loss= -(\n",
        "    math.log(softmax_output[0])*target_output[0] +\n",
        "    math.log(softmax_output[1])*target_output[1] +\n",
        "    math.log(softmax_output[2])*target_output[2]\n",
        "    )\n",
        "print(loss)\n",
        "\n",
        "# Alternatively : because one hot encoding makes second and third terms zero\n",
        "loss = -math.log(softmax_output[0])"
      ],
      "metadata": {
        "colab": {
          "base_uri": "https://localhost:8080/"
        },
        "id": "6p1ZBevvAXEo",
        "outputId": "8cb2615a-1396-44e7-b631-a6b65c096c7e"
      },
      "execution_count": null,
      "outputs": [
        {
          "output_type": "stream",
          "name": "stdout",
          "text": [
            "0.35667494393873245\n"
          ]
        }
      ]
    },
    {
      "cell_type": "code",
      "source": [
        "softmax_outputs = np.array([\n",
        "    [0.7, 0.1, 0.2],\n",
        "    [0.1, 0.5, 0.4],\n",
        "    [0.02, 0.9, 0.08]\n",
        "  ])\n",
        "\n",
        "class_targets = [0, 1, 1] # dog, cat, cat\n",
        "'''\n",
        "first value, 0, in class_targets means the first softmax output distribution’s intended\n",
        "prediction was the one at the 0th index of [0.7, 0.1, 0.2]; the model has a 0.7 confidence\n",
        "score that this observation is a dog\n",
        "'''\n",
        "\n",
        "# mapping the indices to retrieve the values from the softmax distributions\n",
        "\n",
        "\n",
        "for target_idx, distribution in zip(class_targets, softmax_outputs):\n",
        "    print(distribution[target_idx])\n",
        "\n",
        "# Alternatively\n",
        "print(softmax_outputs[[0,1,2], class_targets])\n",
        "\n",
        "# Alternatively\n",
        "print(softmax_outputs[\n",
        " range(len(softmax_outputs)), class_targets\n",
        "])\n",
        "\n",
        "\n",
        "# Negagive loss\n",
        "neg_log = -np.log(softmax_outputs[range(len(softmax_outputs)), class_targets])\n",
        "print(f' -ve log:{neg_log}')\n",
        "\n",
        "# Arithmetic mean for loss per batch\n",
        "average_loss = np.mean(neg_log)\n",
        "print(average_loss)"
      ],
      "metadata": {
        "colab": {
          "base_uri": "https://localhost:8080/"
        },
        "id": "YVdnRoXxD4Tx",
        "outputId": "713e9156-f5d0-401b-f938-fb73911fe444"
      },
      "execution_count": null,
      "outputs": [
        {
          "output_type": "stream",
          "name": "stdout",
          "text": [
            "0.7\n",
            "0.5\n",
            "0.9\n",
            "[0.7 0.5 0.9]\n",
            "[0.7 0.5 0.9]\n",
            " -ve log:[0.35667494 0.69314718 0.10536052]\n",
            "0.38506088005216804\n"
          ]
        }
      ]
    },
    {
      "cell_type": "code",
      "source": [
        "import numpy as np\n",
        "softmax_outputs = np.array(\n",
        "    [[0.7, 0.1, 0.2],\n",
        "    [0.1, 0.5, 0.4],\n",
        "    [0.02, 0.9, 0.08]]\n",
        "    )\n",
        "\n",
        "class_targets = np.array(\n",
        "    [[1, 0, 0],\n",
        "    [0, 1, 0],\n",
        "    [0, 1, 0]]\n",
        "    )\n",
        "\n",
        "# Probabilities for target values -\n",
        "# only if categorical labels\n",
        "# Sparse values\n",
        "if len(class_targets.shape) == 1:\n",
        "    correct_confidences = softmax_outputs[\n",
        "        range(len(softmax_outputs)), class_targets\n",
        "    ]\n",
        "# Mask values - only for one-hot encoded labels\n",
        "else:\n",
        "    correct_confidences = np.sum(\n",
        "        softmax_outputs*class_targets,\n",
        "        axis=1\n",
        "    )\n",
        "# Losses\n",
        "neg_log = -np.log(correct_confidences)\n",
        "\n",
        "average_lolss = np.mean(neg_log)\n",
        "print(average_loss)"
      ],
      "metadata": {
        "colab": {
          "base_uri": "https://localhost:8080/"
        },
        "id": "UzJYgimjFw-o",
        "outputId": "b2f06006-2068-48ac-e2d5-038d7b7fa0cb"
      },
      "execution_count": null,
      "outputs": [
        {
          "output_type": "stream",
          "name": "stdout",
          "text": [
            "0.38506088005216804\n"
          ]
        }
      ]
    },
    {
      "cell_type": "code",
      "source": [
        "'''\n",
        "* Problem: -np.log(0) -> infinity\n",
        "* solution: add a very small value small value 1e-7  to the confidence to prevent it from being a zero,\n",
        "* problem: -np.log(1) -> 0\n",
        "'''\n",
        "import numpy as np\n",
        "\n",
        "print(f' -log(0): {-np.log(0)}')\n",
        "\n",
        "# Confidence in correct label becomes negative\n",
        "print(f' adding very small value: {-np.log(1+1e-7)}')\n",
        "\n",
        "# makes loss a very small value instead of zero, but wont make it a negative value\n",
        "print(f' substracting very small value: {-np.log(1-1e-7)}', end='\\n\\n')\n",
        "\n",
        "\n",
        "# This method can perform clipping on an array of values, so we can apply it to the predictions directly\n",
        "y_pred_clipped = np.clip(0, 1e-7, 1 - 1e-7)\n",
        "y_pred_clipped"
      ],
      "metadata": {
        "colab": {
          "base_uri": "https://localhost:8080/"
        },
        "id": "oWpHNu4-IzdM",
        "outputId": "03d9a985-2704-4fa2-cdc9-f034e3489b7c"
      },
      "execution_count": null,
      "outputs": [
        {
          "output_type": "stream",
          "name": "stdout",
          "text": [
            " -log(0): inf\n",
            " adding very small value: -9.999999505838704e-08\n",
            " substracting very small value: 1.0000000494736474e-07\n",
            "\n"
          ]
        },
        {
          "output_type": "stream",
          "name": "stderr",
          "text": [
            "<ipython-input-68-075a6139620d>:8: RuntimeWarning: divide by zero encountered in log\n",
            "  print(f' -log(0): {-np.log(0)}')\n"
          ]
        },
        {
          "output_type": "execute_result",
          "data": {
            "text/plain": [
              "1e-07"
            ]
          },
          "metadata": {},
          "execution_count": 68
        }
      ]
    },
    {
      "cell_type": "code",
      "source": [
        "# Categorical crossentropy loss class\n",
        "# -------------------------------\n",
        "\n",
        "# Common loss class\n",
        "class Loss:\n",
        "    # Calculates the data and regularization losses\n",
        "    # Given model output and ground truth values\n",
        "    def calculate(self, output, y):\n",
        "\n",
        "        # Calculate sample losses\n",
        "        sample_losses = self.forward(output, y)\n",
        "\n",
        "        # Calculate mean loss\n",
        "        data_loss = np.mean(sample_losses)\n",
        "\n",
        "        # Return loss\n",
        "        return data_loss\n",
        "\n",
        "# Cross-entropy loss\n",
        "class Loss_CategoricalCrossentropy(Loss):\n",
        "    # Forward pass\n",
        "    def forward(self, y_pred, y_true):\n",
        "\n",
        "        # Number of samples in a batch\n",
        "        samples = len(y_pred)\n",
        "\n",
        "        # Clip data to prevent division by 0\n",
        "        # Clip both sides to not drag mean towards any value\n",
        "        y_pred_clipped = np.clip(y_pred, 1e-7, 1 - 1e-7)\n",
        "\n",
        "        # Probabilities for target values -\n",
        "        # only if categorical labels\n",
        "        if len(y_true.shape) == 1:\n",
        "            correct_confidences = y_pred_clipped[\n",
        "                range(samples),\n",
        "                y_true\n",
        "            ]\n",
        "\n",
        "        # Mask values - only for one-hot encoded labels\n",
        "        elif len(y_true.shape) == 2:\n",
        "            correct_confidences = np.sum(\n",
        "                y_pred_clipped*y_true,\n",
        "                axis=1\n",
        "            )\n",
        "\n",
        "        # Losses\n",
        "        negative_log_likelihoods = -np.log(correct_confidences)\n",
        "        return negative_log_likelihoods\n",
        "\n",
        "loss_function = Loss_CategoricalCrossentropy()\n",
        "loss = loss_function.calculate(softmax_outputs, class_targets)\n",
        "print(loss)"
      ],
      "metadata": {
        "colab": {
          "base_uri": "https://localhost:8080/"
        },
        "id": "lQAdZMIXKlXL",
        "outputId": "e44f0c55-735c-40a9-b764-8552a99e9231"
      },
      "execution_count": null,
      "outputs": [
        {
          "output_type": "stream",
          "name": "stdout",
          "text": [
            "0.38506088005216804\n"
          ]
        }
      ]
    },
    {
      "cell_type": "code",
      "source": [
        "## Accuracy Calculation\n",
        "# ---------------------\n",
        "import numpy as np\n",
        "\n",
        "# Probabilities of 3 samples\n",
        "softmax_outputs = np.array([[0.7, 0.2, 0.1],\n",
        " [0.5, 0.1, 0.4],\n",
        " [0.02, 0.9, 0.08]])\n",
        "\n",
        "# Target (ground-truth) labels for 3 samples\n",
        "class_targets = np.array([0, 1, 1])\n",
        "\n",
        "# Calculate values along second axis (axis of index 1)\n",
        "predictions = np.argmax(softmax_outputs, axis=1)\n",
        "\n",
        "# If targets are one-hot encoded - convert them\n",
        "if len(class_targets.shape) == 2:\n",
        " class_targets = np.argmax(class_targets, axis=1)\n",
        "\n",
        "# True evaluates to 1; False to 0\n",
        "accuracy = np.mean(predictions == class_targets)\n",
        "print('acc:', accuracy)"
      ],
      "metadata": {
        "colab": {
          "base_uri": "https://localhost:8080/"
        },
        "id": "Q1BxL8KeOWW9",
        "outputId": "236a7faf-f994-4cd7-93b8-d312a31d4005"
      },
      "execution_count": null,
      "outputs": [
        {
          "output_type": "stream",
          "name": "stdout",
          "text": [
            "acc: 0.6666666666666666\n"
          ]
        }
      ]
    },
    {
      "cell_type": "markdown",
      "source": [
        "## Code till now"
      ],
      "metadata": {
        "id": "ANPe4v4itfJ0"
      }
    },
    {
      "cell_type": "code",
      "source": [
        "import numpy as np\n",
        "import nnfs\n",
        "from nnfs.datasets import spiral_data\n",
        "\n",
        "nnfs.init()\n",
        "\n",
        "\n",
        "# Dense layer\n",
        "class Layer_Dense:\n",
        "\n",
        "    # Layer initialization\n",
        "    def __init__(self, n_inputs, n_neurons):\n",
        "        # Initialize weights and biases\n",
        "        self.weights = 0.01 * np.random.randn(n_inputs, n_neurons)\n",
        "        self.biases = np.zeros((1, n_neurons))\n",
        "\n",
        "    # Forward pass\n",
        "    def forward(self, inputs):\n",
        "        # Calculate output values from inputs, weights and biases\n",
        "        self.output = np.dot(inputs, self.weights) + self.biases\n",
        "\n",
        "\n",
        "# ReLU activation\n",
        "class Activation_ReLU:\n",
        "\n",
        "    # Forward pass\n",
        "    def forward(self, inputs):\n",
        "        # Calculate output values from inputs\n",
        "        self.output = np.maximum(0, inputs)\n",
        "\n",
        "\n",
        "\n",
        "# Softmax activation\n",
        "class Activation_Softmax:\n",
        "\n",
        "    # Forward pass\n",
        "    def forward(self, inputs):\n",
        "\n",
        "        # Get unnormalized probabilities\n",
        "        exp_values = np.exp(inputs - np.max(inputs, axis=1,\n",
        "                                            keepdims=True))\n",
        "        # Normalize them for each sample\n",
        "        probabilities = exp_values / np.sum(exp_values, axis=1,\n",
        "                                            keepdims=True)\n",
        "\n",
        "        self.output = probabilities\n",
        "\n",
        "\n",
        "# Common loss class\n",
        "class Loss:\n",
        "\n",
        "    # Calculates the data and regularization losses\n",
        "    # given model output and ground truth values\n",
        "    def calculate(self, output, y):\n",
        "\n",
        "        # Calculate sample losses\n",
        "        sample_losses = self.forward(output, y)\n",
        "\n",
        "        # Calculate mean loss\n",
        "        data_loss = np.mean(sample_losses)\n",
        "\n",
        "        # Return loss\n",
        "        return data_loss\n",
        "\n",
        "\n",
        "# Cross-entropy loss\n",
        "class Loss_CategoricalCrossentropy(Loss):\n",
        "\n",
        "    # Forward pass\n",
        "    def forward(self, y_pred, y_true):\n",
        "\n",
        "        # Number of samples in a batch\n",
        "        samples = len(y_pred)\n",
        "\n",
        "        # Clip data to prevent division by 0\n",
        "        # Clip both sides to not drag mean towards any value\n",
        "        y_pred_clipped = np.clip(y_pred, 1e-7, 1 - 1e-7)\n",
        "\n",
        "\n",
        "        # Probabilities for target values -\n",
        "        # only if categorical labels\n",
        "        if len(y_true.shape) == 1:\n",
        "            correct_confidences = y_pred_clipped[\n",
        "                range(samples),\n",
        "                y_true\n",
        "            ]\n",
        "\n",
        "        # Mask values - only for one-hot encoded labels\n",
        "        elif len(y_true.shape) == 2:\n",
        "            correct_confidences = np.sum(\n",
        "                y_pred_clipped*y_true,\n",
        "                axis=1\n",
        "            )\n",
        "\n",
        "        # Losses\n",
        "        negative_log_likelihoods = -np.log(correct_confidences)\n",
        "        return negative_log_likelihoods\n",
        "\n",
        "\n",
        "\n",
        "# Create dataset\n",
        "X, y = spiral_data(samples=100, classes=3)\n",
        "\n",
        "# Create Dense layer with 2 input features and 3 output values\n",
        "dense1 = Layer_Dense(2, 3)\n",
        "\n",
        "# Create ReLU activation (to be used with Dense layer):\n",
        "activation1 = Activation_ReLU()\n",
        "\n",
        "# Create second Dense layer with 3 input features (as we take output\n",
        "# of previous layer here) and 3 output values\n",
        "dense2 = Layer_Dense(3, 3)\n",
        "\n",
        "# Create Softmax activation (to be used with Dense layer):\n",
        "activation2 = Activation_Softmax()\n",
        "\n",
        "# Create loss function\n",
        "loss_function = Loss_CategoricalCrossentropy()\n",
        "\n",
        "# Perform a forward pass of our training data through this layer\n",
        "dense1.forward(X)\n",
        "\n",
        "# Perform a forward pass through activation function\n",
        "# it takes the output of first dense layer here\n",
        "activation1.forward(dense1.output)\n",
        "\n",
        "\n",
        "# Perform a forward pass through second Dense layer\n",
        "# it takes outputs of activation function of first layer as inputs\n",
        "dense2.forward(activation1.output)\n",
        "\n",
        "# Perform a forward pass through activation function\n",
        "# it takes the output of second dense layer here\n",
        "activation2.forward(dense2.output)\n",
        "\n",
        "# Let's see output of the first few samples:\n",
        "print(activation2.output[:5])\n",
        "\n",
        "# Perform a forward pass through loss function\n",
        "# it takes the output of second dense layer here and returns loss\n",
        "loss = loss_function.calculate(activation2.output, y)\n",
        "\n",
        "# Print loss value\n",
        "print('loss:', loss)\n"
      ],
      "metadata": {
        "colab": {
          "base_uri": "https://localhost:8080/"
        },
        "id": "xZOi9-OLtevh",
        "outputId": "2da454d6-a577-4356-c977-0661a472bdfc"
      },
      "execution_count": 15,
      "outputs": [
        {
          "output_type": "stream",
          "name": "stdout",
          "text": [
            "[[0.33333334 0.33333334 0.33333334]\n",
            " [0.3333332  0.3333332  0.33333364]\n",
            " [0.3333329  0.33333293 0.3333342 ]\n",
            " [0.3333326  0.33333263 0.33333477]\n",
            " [0.33333233 0.3333324  0.33333528]]\n",
            "loss: 1.0986104\n"
          ]
        }
      ]
    },
    {
      "cell_type": "markdown",
      "source": [
        "# Ch.6 Introducing Optimization"
      ],
      "metadata": {
        "id": "Rgtzjqwrrvm4"
      }
    },
    {
      "cell_type": "code",
      "source": [
        "!pip install nnfs -q\n",
        "import matplotlib.pyplot as plt\n",
        "import nnfs\n",
        "from nnfs.datasets import vertical_data\n",
        "nnfs.init()\n",
        "\n",
        "X, y = vertical_data(samples=100, classes=3)\n",
        "plt.scatter(X[:,0], X[:,1], c=y, s=40, cmap='brg')\n",
        "plt.show()"
      ],
      "metadata": {
        "colab": {
          "base_uri": "https://localhost:8080/",
          "height": 430
        },
        "id": "q0C82VLtsB4u",
        "outputId": "fdb9aef0-f359-4e3d-e83f-ed04dc240816"
      },
      "execution_count": 9,
      "outputs": [
        {
          "output_type": "display_data",
          "data": {
            "text/plain": [
              "<Figure size 640x480 with 1 Axes>"
            ],
            "image/png": "[encoded data removed]"
          },
          "metadata": {}
        }
      ]
    },
    {
      "cell_type": "code",
      "source": [
        "# Create dataset\n",
        "X, y = vertical_data(samples=100, classes=3)\n",
        "\n",
        "# Create model\n",
        "dense1 = Layer_Dense(2, 3)  # First dense layer 2 inputs\n",
        "activation1 = Activation_ReLU()\n",
        "dense2 = Layer_Dense(3,3)# Second dense layer, 3 inputs, 3 outputs\n",
        "activation2 = Activation_Softmax()\n",
        "\n",
        "# Create a loss function\n",
        "loss_function = Loss_CategoricalCrossentropy()\n",
        "\n",
        "# Helper variables\n",
        "lowest_loss = 99999 # Some initial value\n",
        "best_dense1_weights = dense1.weights.copy()\n",
        "best_dense1_biases = dense1.biases.copy()\n",
        "best_dense2_weights = dense2.weights.copy()\n",
        "best_dense2_biases = dense2.biases.copy()\n",
        "\n",
        "for iteration in range(10000):\n",
        "    # Generate a new set of weights for iteration\n",
        "    dense1.weights += 0.05*np.random.randn(2,3)\n",
        "    dense1.biases += 0.05*np.random.randn(1,3)\n",
        "    dense2.weights += 0.05*np.random.randn(3,3)\n",
        "    dense2.biases += 0.05*np.random.randn(1,3)\n",
        "\n",
        "    # perform a forward pass of training data throught this layer\n",
        "    dense1.forward(X)\n",
        "    activation1.forward(dense1.output)\n",
        "    dense2.forward(activation1.output)\n",
        "    activation2.forward(dense1.output)\n",
        "\n",
        "    # Perform a forward pass through activation function\n",
        "    # it takes the output of second dense layer here and returns loss\n",
        "    loss = loss_function.calculate(activation2.output, y)\n",
        "\n",
        "    # Calculate accuracy from output of activation2 and targets\n",
        "    # calculate values along first axis\n",
        "    predictions = np.argmax(activation2.output, axis=1)\n",
        "    accuracy = np.mean(predictions==y)\n",
        "\n",
        "    # If loss is smaller - pring and save weights and biases aside\n",
        "    if loss < lowest_loss:\n",
        "        print(\"New Set of weights found, iteration: \", iteration, 'loss:', loss, 'acc:', accuracy)\n",
        "        best_dense1_weights = dense1.weights.copy()\n",
        "        best_dense1_biases = dense1.biases.copy()\n",
        "\n",
        "        best_dense2_weights = dense2.weights.copy()\n",
        "        best_dense2_biases = dense2.biases.copy()\n",
        "        lowest_loss = loss"
      ],
      "metadata": {
        "colab": {
          "base_uri": "https://localhost:8080/"
        },
        "id": "YRQQY3ptsdjw",
        "outputId": "6537a58e-d3da-422b-929f-b4cbbbb482ae"
      },
      "execution_count": 20,
      "outputs": [
        {
          "output_type": "stream",
          "name": "stdout",
          "text": [
            "New Set of weights found, iteration:  0 loss: 1.1080168 acc: 0.3333333333333333\n",
            "New Set of weights found, iteration:  1 loss: 1.0975143 acc: 0.3333333333333333\n",
            "New Set of weights found, iteration:  29 loss: 1.0881526 acc: 0.38333333333333336\n",
            "New Set of weights found, iteration:  30 loss: 1.0823746 acc: 0.37333333333333335\n"
          ]
        }
      ]
    },
    {
      "cell_type": "markdown",
      "source": [
        "# Ch.7 Derivatives\n",
        "* Method-1: Numerical Method\n",
        "  * never gets more complicated\n",
        "* Method-2: Analytical Method\n",
        "  *  exact and much quicker\n",
        "  * Very in complexity"
      ],
      "metadata": {
        "id": "tkI0pmopxVKS"
      }
    },
    {
      "cell_type": "code",
      "source": [
        "# plotting a function\n",
        "import matplotlib.pyplot as plt\n",
        "import numpy as np\n",
        "\n",
        "def f(x):\n",
        "  return 2*x\n",
        "f(2)\n",
        "\n",
        "x=np.array(range(5))\n",
        "y=f(x)\n",
        "\n",
        "print(x)\n",
        "print(y)\n",
        "\n",
        "plt.plot(x, y)\n",
        "plt.show()"
      ],
      "metadata": {
        "colab": {
          "base_uri": "https://localhost:8080/",
          "height": 467
        },
        "id": "au_cA0clv2wB",
        "outputId": "2722343c-fdca-4d74-a9e6-8c2ac089564b"
      },
      "execution_count": 23,
      "outputs": [
        {
          "output_type": "stream",
          "name": "stdout",
          "text": [
            "[0 1 2 3 4]\n",
            "[0 2 4 6 8]\n"
          ]
        },
        {
          "output_type": "display_data",
          "data": {
            "text/plain": [
              "<Figure size 640x480 with 1 Axes>"
            ],
            "image/png": "[encoded data removed]"
          },
          "metadata": {}
        }
      ]
    },
    {
      "cell_type": "code",
      "source": [
        "# Numerical Derivative\n",
        "import matplotlib.pyplot as plt\n",
        "import numpy as np\n",
        "\n",
        "def f(x):\n",
        "  return 2*x**2\n",
        "\n",
        "# np.arange(start, stop, step) to give us smoother line\n",
        "x=np.arange(0,5,.001)\n",
        "y=f(x)\n",
        "plt.plot(x, y)\n",
        "\n",
        "# The point and \"close enough\" point\n",
        "p2_delta = 0.0001\n",
        "x1 = 2\n",
        "x2 = x1 + p2_delta\n",
        "\n",
        "y1 = f(x1)\n",
        "y2 = f(x2)\n",
        "print((x1, y1), (x2, y2))\n",
        "\n",
        "# Derivative approximation of y-intercept for the tangent line\n",
        "approximate_derivative = (y2-y1)/(x2-x1)\n",
        "b = y2 - approximate_derivative*x2  # from: y = mx + c\n",
        "\n",
        "# We put the tangent line calculation into a function so we can call\n",
        "# it multiple times for different values of x\n",
        "# approximate_derivative and b are constant for given function\n",
        "# thus calculated once above this function\n",
        "def tangent_line(x):\n",
        " return approximate_derivative*x + b\n",
        "\n",
        "# plotting the tangent line\n",
        "# +/- 0.9 to draw the tangent line on our graph\n",
        "# then we calculate the y for given x using the tangent line function\n",
        "# Matplotlib will draw a line for us through these points\n",
        "to_plot = [x1-0.9, x1, x1+0.9]\n",
        "plt.plot(to_plot, [tangent_line(i) for i in to_plot])\n",
        "\n",
        "plt.show()\n",
        "\n",
        "print('Approximate derivative for f(x)', f'where x = {x1} is {approximate_derivative}')\n",
        "\n",
        "plt.show()"
      ],
      "metadata": {
        "colab": {
          "base_uri": "https://localhost:8080/",
          "height": 467
        },
        "id": "A2SG4qZw54cc",
        "outputId": "75c4d059-0f20-40c5-faa1-9b2035608b92"
      },
      "execution_count": 27,
      "outputs": [
        {
          "output_type": "stream",
          "name": "stdout",
          "text": [
            "(2, 8) (2.0001, 8.000800020000002)\n"
          ]
        },
        {
          "output_type": "display_data",
          "data": {
            "text/plain": [
              "<Figure size 640x480 with 1 Axes>"
            ],
            "image/png": "[encoded data removed]"
          },
          "metadata": {}
        },
        {
          "output_type": "stream",
          "name": "stdout",
          "text": [
            "Approximate derivative for f(x) where x = 2 is 8.000199999998785\n"
          ]
        }
      ]
    },
    {
      "cell_type": "code",
      "source": [
        "# plot multiple tangent lines\n",
        "import matplotlib.pyplot as plt\n",
        "import numpy as np\n",
        "\n",
        "def f(x):\n",
        "   return 2*x**2\n",
        "\n",
        "# np.arange(start, stop, step) to give us a smoother curve\n",
        "x = np.array(np.arange(0, 5, 0.001))\n",
        "y = f(x)\n",
        "plt.plot(x, y)\n",
        "colors = ['k', 'g', 'r', 'b', 'c']\n",
        "def approximate_tangent_line(x, approximate_derivative):\n",
        "   return (approximate_derivative*x) + b\n",
        "\n",
        "for i in range(5):\n",
        "    p2_delta = 0.0001\n",
        "    x1 = i\n",
        "    x2 = x1+p2_delta\n",
        "\n",
        "    y1 = f(x1)\n",
        "    y2 = f(x2)\n",
        "\n",
        "    print((x1, y1), (x2, y2))\n",
        "    approximate_derivative = (y2-y1)/(x2-x1)\n",
        "    b = y2-(approximate_derivative*x2)\n",
        "\n",
        "    to_plot = [x1-0.9, x1, x1+0.9]\n",
        "\n",
        "    plt.scatter(x1, y1, c=colors[i])\n",
        "    plt.plot([point for point in to_plot],\n",
        "        [approximate_tangent_line(point, approximate_derivative)\n",
        "          for point in to_plot],\n",
        "        c=colors[i])\n",
        "    print('Approximate derivative for f(x)',\n",
        "          f'where x = {x1} is {approximate_derivative}')\n",
        "plt.show()"
      ],
      "metadata": {
        "colab": {
          "base_uri": "https://localhost:8080/",
          "height": 614
        },
        "id": "rIJCHsZZ7jLR",
        "outputId": "19c259c4-4cef-4ff5-8da4-c074619cd393"
      },
      "execution_count": 28,
      "outputs": [
        {
          "output_type": "stream",
          "name": "stdout",
          "text": [
            "(0, 0) (0.0001, 2e-08)\n",
            "Approximate derivative for f(x) where x = 0 is 0.00019999999999999998\n",
            "(1, 2) (1.0001, 2.00040002)\n",
            "Approximate derivative for f(x) where x = 1 is 4.0001999999987845\n",
            "(2, 8) (2.0001, 8.000800020000002)\n",
            "Approximate derivative for f(x) where x = 2 is 8.000199999998785\n",
            "(3, 18) (3.0001, 18.001200020000002)\n",
            "Approximate derivative for f(x) where x = 3 is 12.000199999998785\n",
            "(4, 32) (4.0001, 32.00160002)\n",
            "Approximate derivative for f(x) where x = 4 is 16.000200000016548\n"
          ]
        },
        {
          "output_type": "display_data",
          "data": {
            "text/plain": [
              "<Figure size 640x480 with 1 Axes>"
            ],
            "image/png": "[encoded data removed]"
          },
          "metadata": {}
        }
      ]
    },
    {
      "cell_type": "markdown",
      "source": [],
      "metadata": {
        "id": "Cg0bBrLP8GoQ"
      }
    },
    {
      "cell_type": "markdown",
      "source": [
        "## Ch.9 Backpropagation"
      ],
      "metadata": {
        "id": "BjW07HHv8G0a"
      }
    },
    {
      "cell_type": "code",
      "source": [],
      "metadata": {
        "id": "V0fs2A-E8KW4"
      },
      "execution_count": null,
      "outputs": []
    }
  ]
}