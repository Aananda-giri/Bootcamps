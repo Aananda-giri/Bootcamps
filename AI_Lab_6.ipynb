{
  "nbformat": 4,
  "nbformat_minor": 0,
  "metadata": {
    "colab": {
      "provenance": [],
      "authorship_tag": "ABX9TyMGGilXr+wMqSJnwLkHT83C",
      "include_colab_link": true
    },
    "kernelspec": {
      "name": "python3",
      "display_name": "Python 3"
    },
    "language_info": {
      "name": "python"
    }
  },
  "cells": [
    {
      "cell_type": "markdown",
      "metadata": {
        "id": "view-in-github",
        "colab_type": "text"
      },
      "source": [
        "<a href=\"https://colab.research.google.com/github/Aananda-giri/ML_training/blob/ai-lab/AI_Lab_6.ipynb\" target=\"_parent\"><img src=\"https://colab.research.google.com/assets/colab-badge.svg\" alt=\"Open In Colab\"/></a>"
      ]
    },
    {
      "cell_type": "markdown",
      "source": [
        "## **Predicate Logic**\n",
        "**Demonstrate predicate logic using pyDatalog**\n",
        "# Lab 6.1\n",
        "## Devise rules to find answer of the following questions\n",
        "* Who is the grandfather of Luv? : Dashrath\n",
        "* Who is the spouse of Ram?      : Sita\n",
        "* Who is brother of Luv?         : Kush\n",
        "* Who is uncle of Luv?           : Laxman\n",
        "* Who is mother in law of Sita? : Kaushalya"
      ],
      "metadata": {
        "id": "zkqrKIod1FLT"
      }
    },
    {
      "cell_type": "code",
      "source": [
        "!pip install pyDatalog"
      ],
      "metadata": {
        "colab": {
          "base_uri": "https://localhost:8080/"
        },
        "id": "kNWumOi_aEG4",
        "outputId": "0540be1f-bde4-496f-c883-0d6c5ddb20cf"
      },
      "execution_count": 5,
      "outputs": [
        {
          "output_type": "stream",
          "name": "stdout",
          "text": [
            "Looking in indexes: https://pypi.org/simple, https://us-python.pkg.dev/colab-wheels/public/simple/\n",
            "Requirement already satisfied: pyDatalog in /usr/local/lib/python3.10/dist-packages (0.17.4)\n"
          ]
        }
      ]
    },
    {
      "cell_type": "code",
      "source": [
        "# Demonstrate predicate logic using pyDatalog\n",
        "from pyDatalog import pyDatalog\n",
        "pyDatalog.create_terms('father, brother, mother, spouse, grandfather, uncle, motherinlaw, X,Y,Z')\n",
        "# pyDatalog.create_atoms('X,Y,Z')\n",
        "+father('Dashrath', 'Ram')\n",
        "+father('Dashrath', 'Laxman')\n",
        "+father('Ram', 'Luv')\n",
        "+father('Ram', 'Kush')\n",
        "+mother('Sita', 'Luv')\n",
        "+mother('Sita', 'Kush')\n",
        "+mother('Kaushalya', 'Ram')\n",
        "+mother('Kaushalya', 'Laxman')\n",
        "grandfather(X,Y) <= father(X,Z) & father(Z,Y)\n",
        "spouse(X,Y) <= mother(X,Z) & father(Y,Z)\n",
        "brother(X,Y) <= father(Z,X) & father(Z,Y) & (X!=Y)\n",
        "uncle(X,Y) <= father(Z,Y) & brother(X,Z)\n",
        "motherinlaw(X,Y) <= mother(X,Z) & spouse(Y,Z)\n",
        "\n",
        "grandfather(X,'Luv')\n",
        "print(\"Grandfather of Luv is: \", X.data[0])\n",
        "spouse(X,'Ram')\n",
        "print(\"Spouse of Ram is: \", X.data[0])\n",
        "brother(X,'Kush')\n",
        "print(\"Brother of Kush is: \", X.data[0])\n",
        "uncle(X,'Luv')\n",
        "print(\"Uncle of Luv is: \", X.data[0])\n",
        "motherinlaw(X, 'Sita')\n",
        "print(\"mother in law of Sita\", X.data[0])\n"
      ],
      "metadata": {
        "id": "_WvEhBAv1Ri0",
        "colab": {
          "base_uri": "https://localhost:8080/"
        },
        "outputId": "b5417e56-d49a-462c-c98c-c7aae2df0782"
      },
      "execution_count": 15,
      "outputs": [
        {
          "output_type": "stream",
          "name": "stdout",
          "text": [
            "Grandfather of Luv is:  Dashrath\n",
            "Spouse of Ram is:  Sita\n",
            "Brother of Kush is:  Luv\n",
            "Uncle of Luv is:  Laxman\n",
            "mother in law of Sita Kaushalya\n"
          ]
        }
      ]
    },
    {
      "cell_type": "markdown",
      "source": [
        "# Lab 6.2\n",
        "Write a python  programme to prove the validity of the following arguments\n",
        "1. All greedy leaders are autocrat. Autocrats are evil. Prashant is a greedy leader. Ram is a honest leader. Prove Prashant is evil.\n",
        "2. Jane is Paul's mother. Jane is Mary's mother. Any two people having same mother are siblings. Therefore, Paul and Mary are siblings.\n",
        "3. All students of this class takes a course in AI. All students who takes AI are smart. Ritu is student of this class. Prove Ritu is smart."
      ],
      "metadata": {
        "id": "Ylx2zYKgiDy8"
      }
    },
    {
      "cell_type": "code",
      "source": [
        "# 1. All greedy leaders are autocrat. Autocrats are evil. Prashant is a greedy leader. Ram is a honest leader. Prove Prashant is evil.\n",
        "from pyDatalog import pyDatalog\n",
        "\n",
        "pyDatalog.create_terms('greedy, leader, autocrat, evil, honest, X,Y,Z')\n",
        "+honest(\"Ram\")\n",
        "+leader(\"Ram\")\n",
        "+greedy(\"Prashant\")\n",
        "+leader(\"Prashant\")\n",
        "autocrat(X) <= greedy(X) & leader(X)\n",
        "evil(X) <= autocrat(X)\n",
        "evil(X)\n",
        "if X.data[0] == 'Prashant':\n",
        "    print(\"Argument is valid.\")\n",
        "else:\n",
        "    print(\"Argument is invalid.\")\n"
      ],
      "metadata": {
        "colab": {
          "base_uri": "https://localhost:8080/"
        },
        "id": "SMkzC9fLht5d",
        "outputId": "114ca114-1236-4146-a931-ae00b56a5ddb"
      },
      "execution_count": 18,
      "outputs": [
        {
          "output_type": "stream",
          "name": "stdout",
          "text": [
            "Argument is valid.\n"
          ]
        }
      ]
    },
    {
      "cell_type": "code",
      "source": [
        "# 2. Jane is Paul's mother. Jane is Mary's mother. Any two people having same mother are siblings. Therefore, Paul and Mary are siblings.\n",
        "from pyDatalog import pyDatalog\n",
        "\n",
        "pyDatalog.create_terms('mother, sibling, X,Y,Z')\n",
        "+mother(\"Jane\", \"Paul\")\n",
        "+mother(\"Jane\", \"Mary\")\n",
        "sibling(X,Y) <= mother(Z,Y) & mother(Z, X) & (X!=Y)\n",
        "sibling(X, 'Mary')\n",
        "print(\"Sibling of Mary is: \",X.data[0])"
      ],
      "metadata": {
        "colab": {
          "base_uri": "https://localhost:8080/"
        },
        "id": "eLnBDCzmiVME",
        "outputId": "cec6b758-dc6d-4615-fc89-3be2bfb52e50"
      },
      "execution_count": 29,
      "outputs": [
        {
          "output_type": "stream",
          "name": "stdout",
          "text": [
            "Sibling of Mary is:  Paul\n"
          ]
        }
      ]
    },
    {
      "cell_type": "code",
      "source": [
        "# 3. All students of this class takes a course in AI. All students who takes AI are smart. Ritu is student of this class. Prove Ritu is smart.\n",
        "from pyDatalog import pyDatalog\n",
        "\n",
        "pyDatalog.create_terms('smart, student, this_class, takes_ai_course, X,Y,Z')\n",
        "+student(\"Sarita\")\n",
        "+student(\"Ritu\")\n",
        "+this_class(\"Ritu\")\n",
        "takes_ai_course(X) <= student(X) & this_class(X)\n",
        "smart(X) <= takes_ai_course(X)\n",
        "smart(X)\n",
        "if 'Ritu' in X.data:\n",
        "  print(\"Valid Argument :: Ritu is smart\")\n",
        "else:\n",
        "  print(\"In-Valid Argument :: Ritu is not smart\")\n",
        "\n",
        "print(\"Smart Students are: \",X.data)\n"
      ],
      "metadata": {
        "colab": {
          "base_uri": "https://localhost:8080/"
        },
        "id": "SqJfvqMcjQn2",
        "outputId": "2255b49f-f18d-4412-9eab-cb2466a6aebb"
      },
      "execution_count": 34,
      "outputs": [
        {
          "output_type": "stream",
          "name": "stdout",
          "text": [
            "Valid Argument :: Ritu is smart\n",
            "Smart Students are:  ['Ritu']\n"
          ]
        }
      ]
    }
  ]
}