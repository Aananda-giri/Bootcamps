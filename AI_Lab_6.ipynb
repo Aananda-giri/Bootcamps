{
  "nbformat": 4,
  "nbformat_minor": 0,
  "metadata": {
    "colab": {
      "provenance": [],
      "authorship_tag": "ABX9TyOx8pJki8Ln4U3bPmpxRYwo",
      "include_colab_link": true
    },
    "kernelspec": {
      "name": "python3",
      "display_name": "Python 3"
    },
    "language_info": {
      "name": "python"
    }
  },
  "cells": [
    {
      "cell_type": "markdown",
      "metadata": {
        "id": "view-in-github",
        "colab_type": "text"
      },
      "source": [
        "<a href=\"https://colab.research.google.com/github/Aananda-giri/ML_training/blob/ai-lab/AI_Lab_6.ipynb\" target=\"_parent\"><img src=\"https://colab.research.google.com/assets/colab-badge.svg\" alt=\"Open In Colab\"/></a>"
      ]
    },
    {
      "cell_type": "markdown",
      "source": [
        "## **Predicate Logic**\n",
        "**Demonstrate predicate logic using pyDatalog**\n",
        "\n",
        "## Devise rules to find answer of the following questions\n",
        "* Who is the grandfather of Luv? : Dashrath\n",
        "* Who is the spouse of Ram?      : Sita\n",
        "* Who is brother of Luv?         : Kush\n",
        "* Who is uncle of Luv?           : Laxman\n",
        "* Who is mother in law of Sita? : Kaushalya"
      ],
      "metadata": {
        "id": "zkqrKIod1FLT"
      }
    },
    {
      "cell_type": "code",
      "source": [
        "!pip install pyDatalog"
      ],
      "metadata": {
        "colab": {
          "base_uri": "https://localhost:8080/"
        },
        "id": "kNWumOi_aEG4",
        "outputId": "0540be1f-bde4-496f-c883-0d6c5ddb20cf"
      },
      "execution_count": 5,
      "outputs": [
        {
          "output_type": "stream",
          "name": "stdout",
          "text": [
            "Looking in indexes: https://pypi.org/simple, https://us-python.pkg.dev/colab-wheels/public/simple/\n",
            "Requirement already satisfied: pyDatalog in /usr/local/lib/python3.10/dist-packages (0.17.4)\n"
          ]
        }
      ]
    },
    {
      "cell_type": "code",
      "source": [
        "# Demonstrate predicate logic using pyDatalog\n",
        "from pyDatalog import pyDatalog\n",
        "pyDatalog.create_terms('father, brother, mother, spouse, grandfather, uncle, motherinlaw, X,Y,Z')\n",
        "# pyDatalog.create_atoms('X,Y,Z')\n",
        "+father('Dashrath', 'Ram')\n",
        "+father('Dashrath', 'Laxman')\n",
        "+father('Ram', 'Luv')\n",
        "+father('Ram', 'Kush')\n",
        "+mother('Sita', 'Luv')\n",
        "+mother('Sita', 'Kush')\n",
        "+mother('Kaushalya', 'Ram')\n",
        "+mother('Kaushalya', 'Laxman')\n",
        "grandfather(X,Y) <= father(X,Z) & father(Z,Y)\n",
        "spouse(X,Y) <= mother(X,Z) & father(Y,Z)\n",
        "brother(X,Y) <= father(Z,X) & father(Z,Y) & (X!=Y)\n",
        "uncle(X,Y) <= father(Z,Y) & brother(X,Z)\n",
        "motherinlaw(X,Y) <= mother(X,Z) & spouse(Y,Z)\n",
        "\n",
        "grandfather(X,'Luv')\n",
        "print(\"Grandfather of Luv is: \", X.data[0])\n",
        "spouse(X,'Ram')\n",
        "print(\"Spouse of Ram is: \", X.data[0])\n",
        "brother(X,'Kush')\n",
        "print(\"Brother of Kush is: \", X.data[0])\n",
        "uncle(X,'Luv')\n",
        "print(\"Uncle of Luv is: \", X.data[0])\n",
        "motherinlaw(X, 'Sita')\n",
        "print(\"mother in law of Sita\", X.data[0])\n"
      ],
      "metadata": {
        "id": "_WvEhBAv1Ri0",
        "colab": {
          "base_uri": "https://localhost:8080/"
        },
        "outputId": "b5417e56-d49a-462c-c98c-c7aae2df0782"
      },
      "execution_count": 15,
      "outputs": [
        {
          "output_type": "stream",
          "name": "stdout",
          "text": [
            "Grandfather of Luv is:  Dashrath\n",
            "Spouse of Ram is:  Sita\n",
            "Brother of Kush is:  Luv\n",
            "Uncle of Luv is:  Laxman\n",
            "mother in law of Sita Kaushalya\n"
          ]
        }
      ]
    }
  ]
}