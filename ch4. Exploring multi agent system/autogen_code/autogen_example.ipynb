{
 "cells": [
  {
   "cell_type": "code",
   "execution_count": 2,
   "metadata": {},
   "outputs": [
    {
     "name": "stdout",
     "output_type": "stream",
     "text": [
      "Requirement already satisfied: autogen-agentchat in /home/anon/miniforge3/envs/llm_env/lib/python3.13/site-packages (0.4.9.2)\n",
      "Requirement already satisfied: autogen-core==0.4.9.2 in /home/anon/miniforge3/envs/llm_env/lib/python3.13/site-packages (from autogen-agentchat) (0.4.9.2)\n",
      "Requirement already satisfied: jsonref~=1.1.0 in /home/anon/miniforge3/envs/llm_env/lib/python3.13/site-packages (from autogen-core==0.4.9.2->autogen-agentchat) (1.1.0)\n",
      "Requirement already satisfied: opentelemetry-api>=1.27.0 in /home/anon/miniforge3/envs/llm_env/lib/python3.13/site-packages (from autogen-core==0.4.9.2->autogen-agentchat) (1.31.1)\n",
      "Requirement already satisfied: pillow>=11.0.0 in /home/anon/miniforge3/envs/llm_env/lib/python3.13/site-packages (from autogen-core==0.4.9.2->autogen-agentchat) (11.1.0)\n",
      "Requirement already satisfied: protobuf~=5.29.3 in /home/anon/miniforge3/envs/llm_env/lib/python3.13/site-packages (from autogen-core==0.4.9.2->autogen-agentchat) (5.29.4)\n",
      "Requirement already satisfied: pydantic<3.0.0,>=2.10.0 in /home/anon/miniforge3/envs/llm_env/lib/python3.13/site-packages (from autogen-core==0.4.9.2->autogen-agentchat) (2.10.6)\n",
      "Requirement already satisfied: typing-extensions>=4.0.0 in /home/anon/miniforge3/envs/llm_env/lib/python3.13/site-packages (from autogen-core==0.4.9.2->autogen-agentchat) (4.12.2)\n",
      "Requirement already satisfied: deprecated>=1.2.6 in /home/anon/miniforge3/envs/llm_env/lib/python3.13/site-packages (from opentelemetry-api>=1.27.0->autogen-core==0.4.9.2->autogen-agentchat) (1.2.18)\n",
      "Requirement already satisfied: importlib-metadata<8.7.0,>=6.0 in /home/anon/miniforge3/envs/llm_env/lib/python3.13/site-packages (from opentelemetry-api>=1.27.0->autogen-core==0.4.9.2->autogen-agentchat) (8.6.1)\n",
      "Requirement already satisfied: annotated-types>=0.6.0 in /home/anon/miniforge3/envs/llm_env/lib/python3.13/site-packages (from pydantic<3.0.0,>=2.10.0->autogen-core==0.4.9.2->autogen-agentchat) (0.7.0)\n",
      "Requirement already satisfied: pydantic-core==2.27.2 in /home/anon/miniforge3/envs/llm_env/lib/python3.13/site-packages (from pydantic<3.0.0,>=2.10.0->autogen-core==0.4.9.2->autogen-agentchat) (2.27.2)\n",
      "Requirement already satisfied: wrapt<2,>=1.10 in /home/anon/miniforge3/envs/llm_env/lib/python3.13/site-packages (from deprecated>=1.2.6->opentelemetry-api>=1.27.0->autogen-core==0.4.9.2->autogen-agentchat) (1.17.2)\n",
      "Requirement already satisfied: zipp>=3.20 in /home/anon/miniforge3/envs/llm_env/lib/python3.13/site-packages (from importlib-metadata<8.7.0,>=6.0->opentelemetry-api>=1.27.0->autogen-core==0.4.9.2->autogen-agentchat) (3.21.0)\n"
     ]
    }
   ],
   "source": [
    "!pip install autogen-agentchat"
   ]
  },
  {
   "cell_type": "code",
   "execution_count": 3,
   "metadata": {},
   "outputs": [
    {
     "ename": "ImportError",
     "evalue": "cannot import name 'config_list_from_json' from 'autogen_agentchat.agents' (/home/anon/miniforge3/envs/llm_env/lib/python3.13/site-packages/autogen_agentchat/agents/__init__.py)",
     "output_type": "error",
     "traceback": [
      "\u001b[0;31m---------------------------------------------------------------------------\u001b[0m",
      "\u001b[0;31mImportError\u001b[0m                               Traceback (most recent call last)",
      "Cell \u001b[0;32mIn[3], line 2\u001b[0m\n\u001b[1;32m      1\u001b[0m \u001b[38;5;66;03m# autogen_coding_critiq.py\u001b[39;00m\n\u001b[0;32m----> 2\u001b[0m \u001b[38;5;28;01mfrom\u001b[39;00m\u001b[38;5;250m \u001b[39m\u001b[38;5;21;01mautogen_agentchat\u001b[39;00m\u001b[38;5;21;01m.\u001b[39;00m\u001b[38;5;21;01magents\u001b[39;00m\u001b[38;5;250m \u001b[39m\u001b[38;5;28;01mimport\u001b[39;00m AssistantAgent, UserProxyAgent, config_list_from_json\n\u001b[1;32m      4\u001b[0m \u001b[38;5;66;03m# Load the configuration list from the config file.\u001b[39;00m\n\u001b[1;32m      5\u001b[0m config_list \u001b[38;5;241m=\u001b[39m config_list_from_json(env_or_file\u001b[38;5;241m=\u001b[39m\u001b[38;5;124m\"\u001b[39m\u001b[38;5;124mOAI_CONFIG_LIST\u001b[39m\u001b[38;5;124m\"\u001b[39m)\n",
      "\u001b[0;31mImportError\u001b[0m: cannot import name 'config_list_from_json' from 'autogen_agentchat.agents' (/home/anon/miniforge3/envs/llm_env/lib/python3.13/site-packages/autogen_agentchat/agents/__init__.py)"
     ]
    }
   ],
   "source": []
  }
 ],
 "metadata": {
  "kernelspec": {
   "display_name": "llm_env",
   "language": "python",
   "name": "python3"
  },
  "language_info": {
   "codemirror_mode": {
    "name": "ipython",
    "version": 3
   },
   "file_extension": ".py",
   "mimetype": "text/x-python",
   "name": "python",
   "nbconvert_exporter": "python",
   "pygments_lexer": "ipython3",
   "version": "3.13.1"
  }
 },
 "nbformat": 4,
 "nbformat_minor": 2
}
