{
  "nbformat": 4,
  "nbformat_minor": 0,
  "metadata": {
    "colab": {
      "provenance": [],
      "authorship_tag": "ABX9TyPQl1k8UfDCjOq/qoJ7876O",
      "include_colab_link": true
    },
    "kernelspec": {
      "name": "python3",
      "display_name": "Python 3"
    },
    "language_info": {
      "name": "python"
    }
  },
  "cells": [
    {
      "cell_type": "markdown",
      "metadata": {
        "id": "view-in-github",
        "colab_type": "text"
      },
      "source": [
        "<a href=\"https://colab.research.google.com/github/Aananda-giri/ML_training/blob/ai-lab/AI_Lab_1_ipynba.ipynb\" target=\"_parent\"><img src=\"https://colab.research.google.com/assets/colab-badge.svg\" alt=\"Open In Colab\"/></a>"
      ]
    },
    {
      "cell_type": "markdown",
      "source": [
        "# **Lab-1: Introduction to python**\n",
        "# Python program to demonstrate different lists operations"
      ],
      "metadata": {
        "id": "pU8hoEeXnhTa"
      }
    },
    {
      "cell_type": "code",
      "source": [
        "'''\n",
        "read five elements of list\n",
        "print list elements\n",
        "print fourth element\n",
        "print element from third to last position\n",
        "print last element\n",
        "insert new element at index 2\n",
        "display list elements\n",
        "display length of list\n",
        "define new list with three elements: [8,9,4]\n",
        "display newly added lists7\n",
        "\n",
        "'''\n",
        "mylist1 = []\n",
        "n = int(input(\"Enter the number of elements\"))\n",
        "print(\"Please enter the list elements\")\n",
        "\n",
        "for i in range(n):\n",
        "  e=input()\n",
        "  mylist1.append(e)\n",
        "print(\"List elements are: \",mylist1)\n",
        "\n",
        "print(\"Fourth element is: \", mylist1[3])\n",
        "print(\"Elements from third to last: \", mylist1[2:])\n",
        "print(\"Last element is: \", mylist1[-1])\n",
        "\n",
        "\n",
        "# Insert new element in index 2:\n",
        "n = int(input(\"Enter New element to be inserted\"))\n",
        "mylist1.insert(2, n)\n",
        "# display list elements\n",
        "print(\"My list: \", mylist1)\n",
        "\n",
        "# display length of list\n",
        "print(\"Length: \", len(mylist1))\n",
        "\n",
        "# define new list with three elements: [8,9,4]\n",
        "mylist2 = [8,9,4]\n",
        "\n",
        "# add lists\n",
        "mylist3 = mylist1 + mylist2\n",
        "\n",
        "# display newly added lists\n",
        "print(\"mylist3: \", mylist3)\n",
        "print(\"length of mylist3: \", len(mylist3))"
      ],
      "metadata": {
        "colab": {
          "base_uri": "https://localhost:8080/"
        },
        "id": "keP8WCkFoDNE",
        "outputId": "33404571-ffb5-4a97-f3df-c43912ac030d"
      },
      "execution_count": null,
      "outputs": [
        {
          "output_type": "stream",
          "name": "stdout",
          "text": [
            "Enter the number of elements5\n",
            "Please enter the list elements\n",
            "1\n",
            "3\n",
            "7\n",
            "1\n",
            "8\n",
            "List elements are:  ['1', '3', '7', '1', '8']\n",
            "Fourth element is:  1\n",
            "Elements from third to last:  ['7', '1', '8']\n",
            "Last element is:  8\n",
            "Enter New element to be inserted69\n",
            "My list:  ['1', '3', 69, '7', '1', '8']\n",
            "Length:  6\n",
            "mylist3:  ['1', '3', 69, '7', '1', '8', 8, 9, 4]\n",
            "length of mylist3:  9\n"
          ]
        }
      ]
    },
    {
      "cell_type": "code",
      "source": [
        "# program to read elements of 2d list and print them\n",
        "matrix1 = []\n",
        "n= int(input(\"Enter the no. of rows\"))\n",
        "m= int(input(\"Enter the no. of columns\"))\n",
        "print(\"First Matrix\")\n",
        "for i in range(n):\n",
        "  row = []\n",
        "  for j in range(m):\n",
        "    element = int(input(f'Element({i},{j}):'))\n",
        "    row.append(element)\n",
        "  matrix1.append(row)\n",
        "\n",
        "matrix2 = []\n",
        "n= int(input(\"Enter the no. of rows for matrix2\"))\n",
        "m= int(input(\"Enter the no. of columns for matrix2\"))\n",
        "print(\"Second Matrix\")\n",
        "for i in range(n):\n",
        "  row = []\n",
        "  for j in range(m):\n",
        "    element = int(input(f'Element({i},{j}):'))\n",
        "    row.append(element)\n",
        "  matrix2.append(row)\n",
        "\n",
        "print(\"First Matrix:\", matrix1)\n",
        "print(\"Second Matrix:\", matrix2)\n",
        "print(\"first row of matrix1:\", matrix1[0])\n",
        "print(\"third element of first row of matrix1:\", matrix1[0][2])\n",
        "print(\"2 * matrix1\", 2 * matrix1)\n",
        "\n",
        "# add the two matrix\n",
        "matrix_sum = []\n",
        "for i in range(0,n):\n",
        "  row = []\n",
        "  for j in range(m):\n",
        "    row.append(matrix1[i][j] + matrix2[i][j])\n",
        "  matrix_sum.append(row)\n",
        "print(\"Matrix sum  is: \", matrix_sum)"
      ],
      "metadata": {
        "colab": {
          "base_uri": "https://localhost:8080/"
        },
        "id": "8IvQBVrcrYS7",
        "outputId": "43406277-be3f-4c41-f91d-0585a395d8fa"
      },
      "execution_count": null,
      "outputs": [
        {
          "output_type": "stream",
          "name": "stdout",
          "text": [
            "Enter the no. of rows3\n",
            "Enter the no. of columns3\n",
            "First Matrix\n",
            "Element(0,0):5\n",
            "Element(0,1):8\n",
            "Element(0,2):4\n",
            "Element(1,0):6\n",
            "Element(1,1):1\n",
            "Element(1,2):2\n",
            "Element(2,0):3\n",
            "Element(2,1):6\n",
            "Element(2,2):7\n",
            "Enter the no. of rows for matrix23\n",
            "Enter the no. of columns for matrix23\n",
            "Second Matrix\n",
            "Element(0,0):5\n",
            "Element(0,1):6\n",
            "Element(0,2):3\n",
            "Element(1,0):2\n",
            "Element(1,1):1\n",
            "Element(1,2):7\n",
            "Element(2,0):8\n",
            "Element(2,1):9\n",
            "Element(2,2):4\n",
            "First Matrix: [[5, 8, 4], [6, 1, 2], [3, 6, 7]]\n",
            "Second Matrix: [[5, 6, 3], [2, 1, 7], [8, 9, 4]]\n",
            "first row of matrix1: [5, 8, 4]\n",
            "third element of first row of matrix1: 4\n",
            "2 * matrix1 [[5, 8, 4], [6, 1, 2], [3, 6, 7], [5, 8, 4], [6, 1, 2], [3, 6, 7]]\n",
            "Matrix sum  is:  [[10, 14, 7], [8, 2, 9], [11, 15, 11]]\n"
          ]
        }
      ]
    }
  ]
}