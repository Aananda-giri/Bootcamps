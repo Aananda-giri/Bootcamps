{
 "cells": [
  {
   "attachments": {},
   "cell_type": "markdown",
   "metadata": {},
   "source": [
    "![lab-5](images/2023-06-18-21-13-21.png)"
   ]
  },
  {
   "cell_type": "code",
   "execution_count": 5,
   "metadata": {},
   "outputs": [
    {
     "name": "stdout",
     "output_type": "stream",
     "text": [
      "Solution Path:  ['a', 'b', 'd', 'g']\n",
      "Path Cost:  12\n",
      "Expanded Nodes:  ['a', 'b', 'd']\n",
      "Solution Path:  ['a', 'b', 'e', 'g']\n",
      "Path Cost:  17\n",
      "Expanded Nodes:  ['a', 'b', 'd', 'e']\n",
      "Solution Path:  ['a', 'b', 'e', 'd', 'g']\n",
      "Path Cost:  23\n",
      "Expanded Nodes:  ['a', 'b', 'd', 'e', 'd']\n",
      "Solution Path:  ['a', 'c', 'd', 'g']\n",
      "Path Cost:  15\n",
      "Expanded Nodes:  ['a', 'b', 'd', 'e', 'd', 'c', 'd']\n",
      "Solution Path:  ['a', 'c', 'e', 'g']\n",
      "Path Cost:  13\n",
      "Expanded Nodes:  ['a', 'b', 'd', 'e', 'd', 'c', 'd', 'e']\n",
      "Solution Path:  ['a', 'c', 'e', 'd', 'g']\n",
      "Path Cost:  19\n",
      "Expanded Nodes:  ['a', 'b', 'd', 'e', 'd', 'c', 'd', 'e', 'd']\n",
      "Solution Path:  ['a', 'b', 'c', 'd', 'g']\n",
      "Path Cost:  23\n",
      "Expanded Nodes:  ['a', 'b', 'd', 'e', 'd', 'c', 'd', 'e', 'd', 'c', 'd']\n",
      "Solution Path:  ['a', 'b', 'c', 'e', 'g']\n",
      "Path Cost:  21\n",
      "Expanded Nodes:  ['a', 'b', 'd', 'e', 'd', 'c', 'd', 'e', 'd', 'c', 'd', 'e']\n",
      "Solution Path:  ['a', 'b', 'c', 'e', 'd', 'g']\n",
      "Path Cost:  27\n",
      "Expanded Nodes:  ['a', 'b', 'd', 'e', 'd', 'c', 'd', 'e', 'd', 'c', 'd', 'e', 'd']\n"
     ]
    }
   ],
   "source": [
    " # Lab 6.1 Python program to implement Greedy Best First Search\n",
    "def calculate_path_cost(path):\n",
    "    path_cost = 0\n",
    "    for i in range(1, len(path)):\n",
    "        edge = path[i-1] + path[i]\n",
    "        step_cost = cost[edge]\n",
    "        path_cost += step_cost\n",
    "    return path_cost\n",
    "\n",
    "def GBFS():\n",
    "    expanded =[]\n",
    "    path_queue = [start]\n",
    "    fringe = [start]\n",
    "    fn = [9]    # fn is the list of f(n) values\n",
    "    while fringe:\n",
    "        min_el = min(fn) # minimum element\n",
    "        min_el_index = fn.index(min_el) # index of minimum element\n",
    "        node = fringe.pop(min_el_index)\n",
    "        fn.pop(min_el_index)\n",
    "        path = path_queue.pop(min_el_index)\n",
    "        if node == goal:\n",
    "            print(\"Solution Path: \", path)\n",
    "            print(\"Path Cost: \", calculate_path_cost(path))\n",
    "            print(\"Expanded Nodes: \", expanded)\n",
    "            # return    # to print only one solution\n",
    "        else:\n",
    "            neighbours = graph[node]\n",
    "            for neighbour in neighbours:\n",
    "                fringe.append(neighbour)\n",
    "                new_path = list(path)\n",
    "                new_path.append(neighbour)\n",
    "                path_queue.append(new_path)\n",
    "                fn.append(heuristic[neighbour])\n",
    "            expanded.append(node)\n",
    "graph = {'a':['b','c'], 'b':['c','d','e'], 'c':['d','e'], 'd':['g'], 'e':['d','g']}\n",
    "cost = {'ab':5, 'ac':3, 'bc':6, 'bd':2, 'be':8, 'cd':7, 'ce':6, 'dg':5, 'ed':5, 'eg':4}\n",
    "start ='a'\n",
    "heuristic = {'a':9, 'b':6, 'c':8, 'd':4, 'e':4, 'g':0}\n",
    "goal = 'g'\n",
    "GBFS()"
   ]
  },
  {
   "cell_type": "code",
   "execution_count": 1,
   "metadata": {},
   "outputs": [
    {
     "name": "stdout",
     "output_type": "stream",
     "text": [
      "Goal Found !!!!!\n",
      "Solution Path:  ['a', 'c', 'e', 'g']\n",
      "Path Cost:  12\n"
     ]
    }
   ],
   "source": [
    "# Lab 5.2 Python program to implement A* Search\n",
    "def calculate_path_cost(path):\n",
    "    path_cost = 0\n",
    "    for i in range(1, len(path)):\n",
    "        edge = path[i-1] + path[i]\n",
    "        step_cost = cost[edge]\n",
    "        path_cost += step_cost\n",
    "    return path_cost\n",
    "\n",
    "def AStar():\n",
    "    expanded = []\n",
    "    path_queue = [start]\n",
    "    fringe = [start]\n",
    "    fn = [9]    # fn is the list of f(n) values\n",
    "    while fringe:\n",
    "        min_el = min(fn) # minimum element\n",
    "        min_el_index = fn.index(min_el) # index of minimum element\n",
    "        node = fringe.pop(min_el_index) # pop the node with minimum f(n)\n",
    "        fn.pop(min_el_index) # pop the f(n) value of the node with minimum f(n)\n",
    "        path = path_queue.pop(min_el_index) # pop the path of the node with minimum f(n)\n",
    "        if node == goal:\n",
    "            print(\"Goal Found !!!!!\")\n",
    "            print(\"Solution Path: \", path)\n",
    "            print(\"Path Cost: \", calculate_path_cost(path))\n",
    "            break   # comment this line to print all possible solutions\n",
    "        else:\n",
    "            neighbours = graph[node]\n",
    "            for neighbour in neighbours:\n",
    "                fringe.append(neighbour)\n",
    "                new_path = list(path)\n",
    "                new_path.append(neighbour)\n",
    "                path_queue.append(new_path)\n",
    "                fn.append(calculate_path_cost(new_path) + heuristic[neighbour]) # f(n) = g(n) + h(n)\n",
    "            expanded.append(node)\n",
    "\n",
    "graph = {'a':['b','c'], 'b':['c','d','e'], 'c':['d','e'], 'd':['g'], 'e':['d','g']}\n",
    "cost = {'ab':5, 'ac':2, 'bc':6, 'bd':2, 'be':8, 'cd':7, 'ce':6, 'dg':6, 'ed':5, 'eg':4}\n",
    "heuristic = {'a':9, 'b':6, 'c':8, 'd':4, 'e':4, 'g':0}\n",
    "start = 'a'\n",
    "goal = 'g'\n",
    "AStar()"
   ]
  }
 ],
 "metadata": {
  "kernelspec": {
   "display_name": "machine_env",
   "language": "python",
   "name": "python3"
  },
  "language_info": {
   "codemirror_mode": {
    "name": "ipython",
    "version": 3
   },
   "file_extension": ".py",
   "mimetype": "text/x-python",
   "name": "python",
   "nbconvert_exporter": "python",
   "pygments_lexer": "ipython3",
   "version": "3.11.3"
  },
  "orig_nbformat": 4
 },
 "nbformat": 4,
 "nbformat_minor": 2
}
