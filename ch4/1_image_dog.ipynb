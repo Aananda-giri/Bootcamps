{
 "cells": [
  {
   "cell_type": "markdown",
   "metadata": {
    "id": "9mPab1prnmnA"
   },
   "source": [
    "# ch.4 Real-world data representation using tensors\n",
    "\n",
    "## This chapter covers:\n",
    "\n",
    "* Representing real-world data as PyTorch tensors\n",
    "* Working with a range of data types\n",
    "* Loading data from a file\n",
    "* Converting data to tensors\n",
    "* Shaping tensors so they can be used as inputs for neural network models"
   ]
  },
  {
   "cell_type": "code",
   "execution_count": null,
   "metadata": {
    "colab": {
     "base_uri": "https://localhost:8080/"
    },
    "id": "R5YxxmvGoXnV",
    "outputId": "c1cc333b-5b25-4ea2-ad3d-5b9d7e16f156"
   },
   "outputs": [
    {
     "name": "stdout",
     "output_type": "stream",
     "text": [
      "Cloning into 'dlwpt-code'...\n",
      "remote: Enumerating objects: 706, done.\u001b[K\n",
      "remote: Counting objects: 100% (152/152), done.\u001b[K\n",
      "remote: Compressing objects: 100% (65/65), done.\u001b[K\n",
      "remote: Total 706 (delta 107), reused 89 (delta 87), pack-reused 554 (from 1)\u001b[K\n",
      "Receiving objects: 100% (706/706), 175.17 MiB | 27.08 MiB/s, done.\n",
      "Resolving deltas: 100% (319/319), done.\n",
      "Updating files: 100% (228/228), done.\n",
      "/content/dlwpt-code/p1ch2/dlwpt-code/p1ch2/dlwpt-code/p1ch4\n"
     ]
    }
   ],
   "source": [
    "# added. to access data\n",
    "!git clone https://github.com/deep-learning-with-pytorch/dlwpt-code.git\n",
    "\n",
    "%cd dlwpt-code/p1ch4"
   ]
  },
  {
   "cell_type": "code",
   "execution_count": 7,
   "metadata": {
    "id": "DwgR5AUNnfGT"
   },
   "outputs": [],
   "source": [
    "import numpy as np\n",
    "import torch\n",
    "torch.set_printoptions(edgeitems=2, threshold=50)"
   ]
  },
  {
   "cell_type": "code",
   "execution_count": 8,
   "metadata": {
    "colab": {
     "base_uri": "https://localhost:8080/"
    },
    "id": "iRHOLLAznfGU",
    "outputId": "81ebdaf7-477c-4ad4-cec2-b35381356076"
   },
   "outputs": [
    {
     "name": "stderr",
     "output_type": "stream",
     "text": [
      "<ipython-input-8-0be36f6cb913>:3: DeprecationWarning: Starting with ImageIO v3 the behavior of this function will switch to that of iio.v3.imread. To keep the current behavior (and make this warning disappear) use `import imageio.v2 as imageio` or call `imageio.v2.imread` directly.\n",
      "  img_arr = imageio.imread('../data/p1ch4/image-dog/bobby.jpg')\n"
     ]
    },
    {
     "data": {
      "text/plain": [
       "(720, 1280, 3)"
      ]
     },
     "execution_count": 8,
     "metadata": {},
     "output_type": "execute_result"
    }
   ],
   "source": [
    "# loading an image\n",
    "import imageio\n",
    "\n",
    "img_arr = imageio.imread('../data/p1ch4/image-dog/bobby.jpg')\n",
    "img_arr.shape"
   ]
  },
  {
   "cell_type": "code",
   "execution_count": 9,
   "metadata": {
    "id": "OkNWXar1nfGU"
   },
   "outputs": [],
   "source": [
    "# change the layout: get a proper layout by having channel 2 first and then channels 0 and 1:\n",
    "img = torch.from_numpy(img_arr)\n",
    "out = img.permute(2, 0, 1)"
   ]
  },
  {
   "cell_type": "code",
   "execution_count": 10,
   "metadata": {
    "id": "pnUqR9z1nfGV"
   },
   "outputs": [],
   "source": [
    "\n",
    "batch_size = 3\n",
    "batch = torch.zeros(batch_size, 3, 256, 256, dtype=torch.uint8)"
   ]
  },
  {
   "cell_type": "code",
   "execution_count": 11,
   "metadata": {
    "colab": {
     "base_uri": "https://localhost:8080/"
    },
    "id": "fS0u_9wmnfGV",
    "outputId": "c8fa5b61-1378-422c-d320-f0736bff4387",
    "scrolled": true
   },
   "outputs": [
    {
     "name": "stderr",
     "output_type": "stream",
     "text": [
      "<ipython-input-11-cfb5b3f6651a>:7: DeprecationWarning: Starting with ImageIO v3 the behavior of this function will switch to that of iio.v3.imread. To keep the current behavior (and make this warning disappear) use `import imageio.v2 as imageio` or call `imageio.v2.imread` directly.\n",
      "  img_arr = imageio.imread(os.path.join(data_dir, filename))\n"
     ]
    }
   ],
   "source": [
    "import os\n",
    "\n",
    "data_dir = '../data/p1ch4/image-cats/'\n",
    "filenames = [name for name in os.listdir(data_dir)\n",
    "             if os.path.splitext(name)[-1] == '.png']\n",
    "for i, filename in enumerate(filenames):\n",
    "    img_arr = imageio.imread(os.path.join(data_dir, filename))\n",
    "    img_t = torch.from_numpy(img_arr)\n",
    "    img_t = img_t.permute(2, 0, 1)\n",
    "    img_t = img_t[:3] # <1>\n",
    "    batch[i] = img_t"
   ]
  },
  {
   "cell_type": "code",
   "execution_count": 12,
   "metadata": {
    "id": "q0-lsKHMnfGV"
   },
   "outputs": [],
   "source": [
    "# normalize the data\n",
    "batch = batch.float()\n",
    "batch /= 255.0  # 255 is max. representable number with 8 bits unsigned"
   ]
  },
  {
   "cell_type": "code",
   "execution_count": 15,
   "metadata": {
    "id": "aVIxrqiPnfGW"
   },
   "outputs": [],
   "source": [
    "# another possibility: scale so that output have 0 mean and 1 standerd deviation\n",
    "n_channels = batch.shape[1]\n",
    "for c in range(n_channels):\n",
    "    mean = torch.mean(batch[:, c])\n",
    "    std = torch.std(batch[:, c])\n",
    "    batch[:, c] = (batch[:, c] - mean) / std"
   ]
  }
 ],
 "metadata": {
  "accelerator": "GPU",
  "colab": {
   "gpuType": "T4",
   "provenance": []
  },
  "kernelspec": {
   "display_name": "Python 3",
   "name": "python3"
  },
  "language_info": {
   "codemirror_mode": {
    "name": "ipython",
    "version": 3
   },
   "file_extension": ".py",
   "mimetype": "text/x-python",
   "name": "python",
   "nbconvert_exporter": "python",
   "pygments_lexer": "ipython3",
   "version": "3.7.6"
  }
 },
 "nbformat": 4,
 "nbformat_minor": 0
}
