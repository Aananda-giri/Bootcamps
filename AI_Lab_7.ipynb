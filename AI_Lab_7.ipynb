{
  "nbformat": 4,
  "nbformat_minor": 0,
  "metadata": {
    "colab": {
      "provenance": [],
      "authorship_tag": "ABX9TyNku0xhh+I1fuYQH68jQmqd",
      "include_colab_link": true
    },
    "kernelspec": {
      "name": "python3",
      "display_name": "Python 3"
    },
    "language_info": {
      "name": "python"
    }
  },
  "cells": [
    {
      "cell_type": "markdown",
      "metadata": {
        "id": "view-in-github",
        "colab_type": "text"
      },
      "source": [
        "<a href=\"https://colab.research.google.com/github/Aananda-giri/ML_training/blob/ai-lab/AI_Lab_7.ipynb\" target=\"_parent\"><img src=\"https://colab.research.google.com/assets/colab-badge.svg\" alt=\"Open In Colab\"/></a>"
      ]
    },
    {
      "cell_type": "markdown",
      "source": [
        "# Lab 9.1 : Naive-Bayes Classifier"
      ],
      "metadata": {
        "id": "MAvg2-5HoXbH"
      }
    },
    {
      "cell_type": "code",
      "source": [
        "# Lab 9 : Naive-Bayes Classifier\n",
        "weather = [\"sunny\", \"sunny\", \"overcast\", \"rainy\", \"rainy\", \"rainy\", \"overcast\", \"sunny\", \"sunny\", \"rainy\", \"sunny\", \"overcast\", \"overcast\", \"rainy\"]\n",
        "temp = [\"hot\", \"hot\", \"hot\", \"mild\", \"cool\", \"cool\", \"cool\", \"mild\", \"cool\", \"mild\", \"mild\", \"mild\", \"hot\", \"mild\"]\n",
        "play= [\"no\", \"no\", \"yes\", \"yes\", \"yes\", \"no\", \"yes\", \"no\", \"yes\", \"yes\", \"yes\", \"yes\", \"yes\", \"no\"]\n",
        "humidity =[ \"high\", \"high\", \"high\", \"high\", \"normal\", \"normal\", \"normal\", \"high\", \"normal\", \"normal\", \"normal\", \"high\", \"normal\", \"high\"]\n",
        "wind = [\"weak\", \"strong\", \"weak\", \"weak\", \"weak\", \"strong\", \"strong\", \"weak\", \"weak\", \"weak\", \"strong\", \"strong\", \"weak\", \"strong\"]\n",
        "\n",
        "from sklearn import preprocessing\n",
        "le = preprocessing.LabelEncoder()\n",
        "weather_encoded=le.fit_transform(weather)\n",
        "print(\"Weather:\",weather_encoded)\n",
        "temp_encoded=le.fit_transform(temp)\n",
        "print(\"Temp:\",temp_encoded)\n",
        "play_encoded=le.fit_transform(play)\n",
        "print(\"Play:\",play_encoded)\n",
        "humidity_encoded=le.fit_transform(humidity)\n",
        "print(\"Humidity:\",humidity_encoded)\n",
        "wind_encoded=le.fit_transform(wind)\n",
        "print(\"Wind:\",wind_encoded)\n",
        "features=zip(weather_encoded,temp_encoded,humidity_encoded,wind_encoded)\n",
        "inputs = list(features)\n",
        "print(\"Encoded Features:\",inputs)\n",
        "print(\"Actual Features\", play_encoded)\n",
        "\n",
        "from sklearn.naive_bayes import GaussianNB\n",
        "model = GaussianNB()\n",
        "model.fit(inputs,play_encoded)\n",
        "predicted= model.predict(inputs) # 0:Overcast, 2:Mild, 0:High, 1:Weak\n",
        "print(\"Predicted Value:\", predicted)\n",
        "\n",
        "# x = (Outlook=sunny, Temperature=cool, Humidity=high, Wind=strong)\n",
        "x=[[1,2,0,1]]\n",
        "y_pred=model.predict(x)\n",
        "if y_pred == 0:\n",
        "    print(\"Predicted Value for (Outlook=sunny, Temperature=cool, Humidity=high, Wind=strong):\", y_pred)\n",
        "    print(\"Play Tennis: No\")\n",
        "else:\n",
        "    print(\"Predicted Value for (Outlook=sunny, Temperature=cool, Humidity=high, Wind=strong):\", y_pred)\n",
        "    print(\"Play Tennis: Yes\")"
      ],
      "metadata": {
        "colab": {
          "base_uri": "https://localhost:8080/"
        },
        "id": "S5kEK0xDoXlE",
        "outputId": "1bb4ff0a-e5d5-47e5-fedc-475387071aae"
      },
      "execution_count": 8,
      "outputs": [
        {
          "output_type": "stream",
          "name": "stdout",
          "text": [
            "Weather: [2 2 0 1 1 1 0 2 2 1 2 0 0 1]\n",
            "Temp: [1 1 1 2 0 0 0 2 0 2 2 2 1 2]\n",
            "Play: [0 0 1 1 1 0 1 0 1 1 1 1 1 0]\n",
            "Humidity: [0 0 0 0 1 1 1 0 1 1 1 0 1 0]\n",
            "Wind: [1 0 1 1 1 0 0 1 1 1 0 0 1 0]\n",
            "Encoded Features: [(2, 1, 0, 1), (2, 1, 0, 0), (0, 1, 0, 1), (1, 2, 0, 1), (1, 0, 1, 1), (1, 0, 1, 0), (0, 0, 1, 0), (2, 2, 0, 1), (2, 0, 1, 1), (1, 2, 1, 1), (2, 2, 1, 0), (0, 2, 0, 0), (0, 1, 1, 1), (1, 2, 0, 0)]\n",
            "Actual Features [0 0 1 1 1 0 1 0 1 1 1 1 1 0]\n",
            "Predicted Value: [0 0 1 1 1 1 1 0 1 1 1 1 1 0]\n",
            "Predicted Value for (Outlook=sunny, Temperature=cool, Humidity=high, Wind=strong): [1]\n",
            "Play Tennis: Yes\n"
          ]
        }
      ]
    },
    {
      "cell_type": "markdown",
      "source": [
        "# Lab 9.2: Train AND gate using Hebbian Learning"
      ],
      "metadata": {
        "id": "UUnuy1ZcqLba"
      }
    },
    {
      "cell_type": "code",
      "source": [
        "# Lab 9.2 : Train AND gate using Hebbian Learning\n",
        "import numpy as np\n",
        "\n",
        "def f(x):\n",
        "    return 1 if x >= 0 else 0\n",
        "\n",
        "def hebb_train(inputs, outputs, epochs):\n",
        "    input_size = len(inputs[0])\n",
        "    weights = np.zeros(input_size)\n",
        "    bias = 0\n",
        "\n",
        "    for _ in range(epochs):\n",
        "        for i in range(len(inputs)):\n",
        "            y = f(np.dot(inputs[i], weights) + bias)\n",
        "            error = outputs[i] - y\n",
        "            weights += error * inputs[i]\n",
        "            bias += error\n",
        "\n",
        "    return weights, bias\n",
        "\n",
        "def hebb_predict(inputs, weights, bias):\n",
        "    predictions = []\n",
        "    for i in range(len(inputs)):\n",
        "        y = f(np.dot(inputs[i], weights) + bias)\n",
        "        predictions.append(y)\n",
        "    return predictions\n",
        "\n",
        "# Training data\n",
        "inputs = np.array([[0, 0], [0, 1], [1, 0], [1, 1]])\n",
        "outputs = np.array([0, 0, 0, 1])\n",
        "\n",
        "# Train the AND gate\n",
        "epochs = 10\n",
        "weights, bias = hebb_train(inputs, outputs, epochs)\n",
        "\n",
        "# Display trained weights and bias\n",
        "print(\"Trained Weights:\", weights)\n",
        "print(\"Trained Bias:\", bias)\n",
        "\n",
        "# Predict using the trained model\n",
        "predictions = hebb_predict(inputs, weights, bias)\n",
        "\n",
        "# Display predictions\n",
        "print(\"Predictions:\", predictions)\n"
      ],
      "metadata": {
        "colab": {
          "base_uri": "https://localhost:8080/"
        },
        "id": "OZiWT-THxNk7",
        "outputId": "89658a90-af91-47b9-9e05-f0b731bd4477"
      },
      "execution_count": 20,
      "outputs": [
        {
          "output_type": "stream",
          "name": "stdout",
          "text": [
            "Trained Weights: [2. 1.]\n",
            "Trained Bias: -3\n",
            "Predictions: [0, 0, 0, 1]\n"
          ]
        }
      ]
    },
    {
      "cell_type": "code",
      "source": [
        "# Alternative code\n",
        "# Lab 9.2 : Train AND gate using Hebbian Learning\n",
        "import numpy as np\n",
        "b = 0\n",
        "alpha = 1\n",
        "\n",
        "def hebbian_train(x,y,w):\n",
        "    '''\n",
        "    x : input vector\n",
        "    y : output vector\n",
        "    w : weight vector\n",
        "    '''\n",
        "    for i in range(len(x)):\n",
        "        yin = np.dot(x[i],w)\n",
        "        for j in range(len(w)):\n",
        "            w[j] = w[j] + alpha * x[i][j] * y[i]\n",
        "    return w\n",
        "\n",
        "def heb_train(x,y,w):\n",
        "    '''\n",
        "    x : input vector\n",
        "    y : output vector\n",
        "    w : weight vector\n",
        "    '''\n",
        "    for i in range(len(x)):\n",
        "        global b\n",
        "        dw = alpha * x[i] * y[i]\n",
        "        db = alpha * y[i]\n",
        "        w = np.add(w, dw)\n",
        "        beta = b + db\n",
        "    return w\n",
        "\n",
        "def hebb_predict(x,w):\n",
        "    z=x*w\n",
        "    tx=sum(z)\n",
        "    y=f(tx) # call activation function\n",
        "    return y\n",
        "\n",
        "def f(x):\n",
        "    if x>=b:\n",
        "        return 1\n",
        "    else:\n",
        "        return 0\n",
        "\n",
        "x=np.array([[1,1],[1,0],[0,1],[0,0]])\n",
        "y=np.array([1,0,0,0])\n",
        "wt=np.array([0,0])\n",
        "print(\"Training\")\n",
        "print(\"++++++++\")\n",
        "for i in range(1,3):\n",
        "    print(\"Epoch: #\", i+1)\n",
        "    print(\"Weights:\", wt)\n",
        "    print(\"Bias:\", b)\n",
        "    wt = hebbian_train(x,  y, wt)\n",
        "\n",
        "print(\"Prediction\")\n",
        "for a in x:\n",
        "    out = hebb_predict(a, wt)\n",
        "    print(\"Input: \",a)\n",
        "    print(\"Output: \",out)\n",
        "\n"
      ],
      "metadata": {
        "colab": {
          "base_uri": "https://localhost:8080/"
        },
        "id": "e_cjP0sitGWt",
        "outputId": "d03da2e1-d384-410a-afb1-16990a151215"
      },
      "execution_count": 19,
      "outputs": [
        {
          "output_type": "stream",
          "name": "stdout",
          "text": [
            "Training\n",
            "++++++++\n",
            "Epoch: # 2\n",
            "Weights: [0 0]\n",
            "Bias: 0\n",
            "Epoch: # 3\n",
            "Weights: [1 1]\n",
            "Bias: 0\n",
            "Prediction\n",
            "Input:  [1 1]\n",
            "Output:  1\n",
            "Input:  [1 0]\n",
            "Output:  1\n",
            "Input:  [0 1]\n",
            "Output:  1\n",
            "Input:  [0 0]\n",
            "Output:  1\n"
          ]
        }
      ]
    },
    {
      "cell_type": "code",
      "source": [
        "# Lab 9.2 : Train AND gate using Hebbian Learning\n",
        "import numpy as np\n",
        "\n",
        "def f(x):\n",
        "    return 1 if x >= 0 else 0\n",
        "\n",
        "def hebb_train(inputs, outputs, epochs):\n",
        "    input_size = len(inputs[0])\n",
        "    weights = np.zeros(input_size)\n",
        "    bias = 0\n",
        "\n",
        "    for _ in range(epochs):\n",
        "        for i in range(len(inputs)):\n",
        "            y = f(np.dot(inputs[i], weights) + bias)\n",
        "            error = outputs[i] - y\n",
        "            weights += error * inputs[i]\n",
        "            bias += error\n",
        "\n",
        "    return weights, bias\n",
        "\n",
        "def hebb_predict(inputs, weights, bias):\n",
        "    predictions = []\n",
        "    for i in range(len(inputs)):\n",
        "        y = f(np.dot(inputs[i], weights) + bias)\n",
        "        predictions.append(y)\n",
        "    return predictions\n",
        "\n",
        "# Training data\n",
        "inputs = np.array([[0, 0], [0, 1], [1, 0], [1, 1]])\n",
        "outputs = np.array([0, 0, 0, 1])\n",
        "\n",
        "# Train the AND gate\n",
        "epochs = 10\n",
        "weights, bias = hebb_train(inputs, outputs, epochs)\n",
        "\n",
        "# Display trained weights and bias\n",
        "print(\"Trained Weights:\", weights)\n",
        "print(\"Trained Bias:\", bias)\n",
        "\n",
        "# Predict using the trained model\n",
        "predictions = hebb_predict(inputs, weights, bias)\n",
        "\n",
        "# Display predictions\n",
        "print(\"Predictions:\", predictions)\n"
      ],
      "metadata": {
        "colab": {
          "base_uri": "https://localhost:8080/"
        },
        "id": "BYarT3JWvkTV",
        "outputId": "03e1dc1c-e645-46f2-bc51-e1b600eef6a1"
      },
      "execution_count": 18,
      "outputs": [
        {
          "output_type": "stream",
          "name": "stdout",
          "text": [
            "Trained Weights: [2. 1.]\n",
            "Trained Bias: -3\n",
            "Predictions: [0, 0, 0, 1]\n"
          ]
        }
      ]
    }
  ]
}