{
 "cells": [
  {
   "cell_type": "code",
   "execution_count": null,
   "id": "fd00df82",
   "metadata": {},
   "outputs": [],
   "source": [
    "# https://docs.opensearch.org/docs/latest/getting-started/communicate/\n"
   ]
  },
  {
   "cell_type": "code",
   "execution_count": null,
   "id": "cb83999a",
   "metadata": {},
   "outputs": [],
   "source": [
    "import os\n",
    "from dotenv import load_dotenv\n",
    "\n",
    "load_dotenv()\n",
    "\n",
    "OPENSEARCH_INITIAL_ADMIN_PASSWORD = os.getenv('OPENSEARCH_INITIAL_ADMIN_PASSWORD')"
   ]
  },
  {
   "cell_type": "code",
   "execution_count": 6,
   "id": "a50543b4",
   "metadata": {},
   "outputs": [
    {
     "name": "stdout",
     "output_type": "stream",
     "text": [
      "{\"cluster_name\":\"opensearch-cluster\",\"status\":\"green\",\"timed_out\":false,\"number_of_nodes\":2,\"number_of_data_nodes\":2,\"discovered_master\":true,\"discovered_cluster_manager\":true,\"active_primary_shards\":10,\"active_shards\":20,\"relocating_shards\":0,\"initializing_shards\":0,\"unassigned_shards\":0,\"delayed_unassigned_shards\":0,\"number_of_pending_tasks\":0,\"number_of_in_flight_fetch\":0,\"task_max_waiting_in_queue_millis\":0,\"active_shards_percent_as_number\":100.0}"
     ]
    }
   ],
   "source": [
    "!curl -X GET \"https://localhost:9200/_cluster/health\" -ku admin:{OPENSEARCH_INITIAL_ADMIN_PASSWORD}"
   ]
  },
  {
   "cell_type": "code",
   "execution_count": null,
   "id": "bfd462fe",
   "metadata": {},
   "outputs": [
    {
     "name": "stdout",
     "output_type": "stream",
     "text": [
      "{\n",
      "  \"cluster_name\" : \"opensearch-cluster\",\n",
      "  \"status\" : \"green\",\n",
      "  \"timed_out\" : false,\n",
      "  \"number_of_nodes\" : 2,\n",
      "  \"number_of_data_nodes\" : 2,\n",
      "  \"discovered_master\" : true,\n",
      "  \"discovered_cluster_manager\" : true,\n",
      "  \"active_primary_shards\" : 9,\n",
      "  \"active_shards\" : 18,\n",
      "  \"relocating_shards\" : 0,\n",
      "  \"initializing_shards\" : 0,\n",
      "  \"unassigned_shards\" : 0,\n",
      "  \"delayed_unassigned_shards\" : 0,\n",
      "  \"number_of_pending_tasks\" : 0,\n",
      "  \"number_of_in_flight_fetch\" : 0,\n",
      "  \"task_max_waiting_in_queue_millis\" : 0,\n",
      "  \"active_shards_percent_as_number\" : 100.0\n",
      "}\n"
     ]
    }
   ],
   "source": [
    "!curl -X GET \"https://localhost:9200/_cluster/health?pretty\" -ku admin:{OPENSEARCH_INITIAL_ADMIN_PASSWORD}"
   ]
  },
  {
   "cell_type": "code",
   "execution_count": null,
   "id": "068b32c6",
   "metadata": {},
   "outputs": [
    {
     "name": "stdout",
     "output_type": "stream",
     "text": [
      "{\n",
      "  \"took\" : 5,\n",
      "  \"timed_out\" : false,\n",
      "  \"_shards\" : {\n",
      "    \"total\" : 1,\n",
      "    \"successful\" : 1,\n",
      "    \"skipped\" : 0,\n",
      "    \"failed\" : 0\n",
      "  },\n",
      "  \"hits\" : {\n",
      "    \"total\" : {\n",
      "      \"value\" : 1,\n",
      "      \"relation\" : \"eq\"\n",
      "    },\n",
      "    \"max_score\" : 1.0,\n",
      "    \"hits\" : [\n",
      "      {\n",
      "        \"_index\" : \"students\",\n",
      "        \"_id\" : \"1\",\n",
      "        \"_score\" : 1.0,\n",
      "        \"_source\" : {\n",
      "          \"name\" : \"John Doe\",\n",
      "          \"gpa\" : 3.89,\n",
      "          \"grad_year\" : 2022\n",
      "        }\n",
      "      }\n",
      "    ]\n",
      "  }\n",
      "}\n"
     ]
    }
   ],
   "source": [
    "# use -d (data) for requests that contain a body, specify Content-Type: application/json\n",
    "!curl -X GET \"https://localhost:9200/students/_search?pretty\" -H 'Content-Type: application/json' -d'\\\n",
    "{\\\n",
    "  \"query\": {\\\n",
    "    \"match_all\": {}\\\n",
    "  }\\\n",
    "}'  -ku admin:{OPENSEARCH_INITIAL_ADMIN_PASSWORD}"
   ]
  },
  {
   "cell_type": "code",
   "execution_count": null,
   "id": "9d9eaa16",
   "metadata": {},
   "outputs": [
    {
     "name": "stdout",
     "output_type": "stream",
     "text": [
      "curl: (52) Empty reply from server\n"
     ]
    }
   ],
   "source": [
    "# indexing documents\n",
    "!curl -X PUT \"http://localhost:9200/students/_doc/1\" -H 'Content-Type: application/json' -d'\\\n",
    "{\\\n",
    "  \"name\": \"John Doe\",\\\n",
    "  \"gpa\": 3.89,\\\n",
    "  \"grad_year\": 2022\\\n",
    "}' -ku admin:{OPENSEARCH_INITIAL_ADMIN_PASSWORD}"
   ]
  },
  {
   "cell_type": "code",
   "execution_count": null,
   "id": "40a9248d",
   "metadata": {},
   "outputs": [
    {
     "name": "stdout",
     "output_type": "stream",
     "text": [
      "curl: (52) Empty reply from server\n"
     ]
    }
   ],
   "source": [
    "# DELETING a document\n",
    "!curl -X DELETE \"http://localhost:9200/students/_doc/1\" -ku admin:{OPENSEARCH_INITIAL_ADMIN_PASSWORD}"
   ]
  },
  {
   "cell_type": "code",
   "execution_count": null,
   "id": "f0714b4c",
   "metadata": {},
   "outputs": [
    {
     "name": "stdout",
     "output_type": "stream",
     "text": [
      "curl: (52) Empty reply from server\n"
     ]
    }
   ],
   "source": [
    "# deleting an index\n",
    "!curl -XDELETE \"http://localhost:9200/students\" -ku admin:{OPENSEARCH_INITIAL_ADMIN_PASSWORD}"
   ]
  },
  {
   "cell_type": "code",
   "execution_count": null,
   "id": "7f867ef1",
   "metadata": {},
   "outputs": [
    {
     "name": "stdout",
     "output_type": "stream",
     "text": [
      "curl: (52) Empty reply from server\n"
     ]
    }
   ],
   "source": [
    "# inserting mapping settings\n",
    "\n",
    "!curl -XPUT \"http://localhost:9200/students\" -H 'Content-Type: application/json' -d'\\\n",
    "{\\\n",
    "  \"settings\": {\\\n",
    "    \"index.number_of_shards\": 1\\\n",
    "  }, \\\n",
    "  \"mappings\": {\\\n",
    "    \"properties\": {\\\n",
    "      \"name\": {\\\n",
    "        \"type\": \"text\"\\\n",
    "      },\\\n",
    "      \"grad_year\": {\\\n",
    "        \"type\": \"date\"\\\n",
    "      }\\\n",
    "    }\\\n",
    "  }\\\n",
    "}\\\n",
    "' -ku admin:{OPENSEARCH_INITIAL_ADMIN_PASSWORD}"
   ]
  },
  {
   "cell_type": "code",
   "execution_count": null,
   "id": "c14d4bb1",
   "metadata": {},
   "outputs": [],
   "source": []
  }
 ],
 "metadata": {
  "kernelspec": {
   "display_name": ".venv",
   "language": "python",
   "name": "python3"
  },
  "language_info": {
   "codemirror_mode": {
    "name": "ipython",
    "version": 3
   },
   "file_extension": ".py",
   "mimetype": "text/x-python",
   "name": "python",
   "nbconvert_exporter": "python",
   "pygments_lexer": "ipython3",
   "version": "3.12.10"
  }
 },
 "nbformat": 4,
 "nbformat_minor": 5
}
