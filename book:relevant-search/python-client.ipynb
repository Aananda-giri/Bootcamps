{
 "cells": [
  {
   "cell_type": "code",
   "execution_count": null,
   "id": "2fc19760",
   "metadata": {},
   "outputs": [],
   "source": [
    "# reference: https://docs.opensearch.org/docs/latest/clients/python-low-level/\n",
    "\n",
    "from dotenv import load_dotenv\n",
    "load_dotenv()\n",
    "import os\n",
    "\n",
    "from opensearchpy import OpenSearch\n",
    "host = 'localhost'\n",
    "port = 9200\n",
    "auth = ('admin', os.getenv('OPENSEARCH_INITIAL_ADMIN_PASSWORD')) # For testing only. Don't store credentials in code.\n",
    "ca_certs_path = '/full/path/to/root-ca.pem' # Provide a CA bundle if you use intermediate CAs with your root CA.\n",
    "\n",
    "# Create the client with SSL/TLS enabled, but hostname verification disabled.\n",
    "client = OpenSearch(\n",
    "    hosts = [{'host': host, 'port': port}],\n",
    "    http_compress = True, # enables gzip compression for request bodies\n",
    "    http_auth = auth,\n",
    "    use_ssl = True,\n",
    "    verify_certs = False,\n",
    "    ssl_assert_hostname = False,\n",
    "    ssl_show_warn = False,\n",
    "    ca_certs = ca_certs_path\n",
    ")"
   ]
  },
  {
   "cell_type": "code",
   "execution_count": null,
   "id": "2eb3bede",
   "metadata": {},
   "outputs": [
    {
     "name": "stdout",
     "output_type": "stream",
     "text": [
      "{'acknowledged': True, 'shards_acknowledged': True, 'index': 'python-test-index'}\n"
     ]
    }
   ],
   "source": [
    "# creating an index\n",
    "index_name = 'python-test-index'\n",
    "index_body = {\n",
    "  'settings': {\n",
    "    'index': {\n",
    "      'number_of_shards': 4\n",
    "    }\n",
    "  }\n",
    "}\n",
    "\n",
    "response = client.indices.create(index_name, body=index_body)\n",
    "print(response)"
   ]
  },
  {
   "cell_type": "code",
   "execution_count": null,
   "id": "b6d54c42",
   "metadata": {},
   "outputs": [
    {
     "name": "stdout",
     "output_type": "stream",
     "text": [
      "{'_index': 'python-test-index', '_id': '1', '_version': 1, 'result': 'created', 'forced_refresh': True, '_shards': {'total': 2, 'successful': 2, 'failed': 0}, '_seq_no': 0, '_primary_term': 1}\n"
     ]
    }
   ],
   "source": [
    "# indexing a document\n",
    "document = {\n",
    "  'title': 'Moneyball',\n",
    "  'director': 'Bennett Miller',\n",
    "  'year': '2011'\n",
    "}\n",
    "\n",
    "response = client.index(\n",
    "    index = 'python-test-index',\n",
    "    body = document,\n",
    "    id = '1',\n",
    "    refresh = True\n",
    ")\n",
    "print(response)"
   ]
  },
  {
   "cell_type": "code",
   "execution_count": null,
   "id": "5c979df2",
   "metadata": {},
   "outputs": [
    {
     "data": {
      "text/plain": [
       "{'took': 329,\n",
       " 'errors': False,\n",
       " 'items': [{'index': {'_index': 'my-dsl-index',\n",
       "    '_id': '2',\n",
       "    '_version': 1,\n",
       "    'result': 'created',\n",
       "    '_shards': {'total': 2, 'successful': 1, 'failed': 0},\n",
       "    '_seq_no': 0,\n",
       "    '_primary_term': 1,\n",
       "    'status': 201}},\n",
       "  {'create': {'_index': 'my-dsl-index',\n",
       "    '_id': '3',\n",
       "    '_version': 1,\n",
       "    'result': 'created',\n",
       "    '_shards': {'total': 2, 'successful': 1, 'failed': 0},\n",
       "    '_seq_no': 1,\n",
       "    '_primary_term': 1,\n",
       "    'status': 201}},\n",
       "  {'update': {'_index': 'my-dsl-index',\n",
       "    '_id': '3',\n",
       "    '_version': 2,\n",
       "    'result': 'updated',\n",
       "    '_shards': {'total': 2, 'successful': 1, 'failed': 0},\n",
       "    '_seq_no': 2,\n",
       "    '_primary_term': 1,\n",
       "    'status': 200}}]}"
      ]
     },
     "execution_count": 15,
     "metadata": {},
     "output_type": "execute_result"
    }
   ],
   "source": [
    "# performing bulk operations\n",
    "movies = '{ \"index\" : { \"_index\" : \"my-dsl-index\", \"_id\" : \"2\" } } \\n { \"title\" : \"Interstellar\", \"director\" : \"Christopher Nolan\", \"year\" : \"2014\"} \\n { \"create\" : { \"_index\" : \"my-dsl-index\", \"_id\" : \"3\" } } \\n { \"title\" : \"Star Trek Beyond\", \"director\" : \"Justin Lin\", \"year\" : \"2015\"} \\n { \"update\" : {\"_id\" : \"3\", \"_index\" : \"my-dsl-index\" } } \\n { \"doc\" : {\"year\" : \"2016\"} }'\n",
    "\n",
    "response = client.bulk(movies)\n",
    "print(response)"
   ]
  },
  {
   "cell_type": "code",
   "execution_count": 17,
   "id": "3441bfae",
   "metadata": {},
   "outputs": [
    {
     "name": "stdout",
     "output_type": "stream",
     "text": [
      "{'took': 8, 'timed_out': False, '_shards': {'total': 4, 'successful': 4, 'skipped': 0, 'failed': 0}, 'hits': {'total': {'value': 1, 'relation': 'eq'}, 'max_score': 0.13076457, 'hits': [{'_index': 'python-test-index', '_id': '1', '_score': 0.13076457, '_source': {'title': 'Moneyball', 'director': 'Bennett Miller', 'year': '2011'}}]}}\n"
     ]
    }
   ],
   "source": [
    "# Searching for document\n",
    "q = 'miller'\n",
    "query = {\n",
    "  'size': 5,\n",
    "  'query': {\n",
    "    'multi_match': {\n",
    "      'query': q,\n",
    "      'fields': ['title^2', 'director']\n",
    "    }\n",
    "  }\n",
    "}\n",
    "\n",
    "response = client.search(\n",
    "    body = query,\n",
    "    index = 'python-test-index'\n",
    ")\n",
    "print(response)"
   ]
  },
  {
   "cell_type": "code",
   "execution_count": null,
   "id": "fde83132",
   "metadata": {},
   "outputs": [],
   "source": [
    "# deleting a document\n",
    "response = client.delete(\n",
    "    index = 'python-test-index',\n",
    "    id = '1'\n",
    ")\n",
    "print(response)"
   ]
  },
  {
   "cell_type": "code",
   "execution_count": null,
   "id": "82d87c41",
   "metadata": {},
   "outputs": [
    {
     "data": {
      "text/plain": [
       "{'acknowledged': True}"
      ]
     },
     "execution_count": 21,
     "metadata": {},
     "output_type": "execute_result"
    }
   ],
   "source": [
    "# deleting an index\n",
    "response = client.indices.delete(\n",
    "    index = 'python-test-index'\n",
    ")\n",
    "\n",
    "print(response)\n"
   ]
  },
  {
   "cell_type": "markdown",
   "id": "b4f1e1f1",
   "metadata": {},
   "source": [
    "## Putting it together"
   ]
  },
  {
   "cell_type": "code",
   "execution_count": 24,
   "id": "53398925",
   "metadata": {},
   "outputs": [
    {
     "name": "stdout",
     "output_type": "stream",
     "text": [
      "\n",
      "Creating index:\n",
      "{'acknowledged': True, 'shards_acknowledged': True, 'index': 'python-test-index'}\n",
      "\n",
      "Adding document:\n",
      "{'_index': 'python-test-index', '_id': '1', '_version': 1, 'result': 'created', 'forced_refresh': True, '_shards': {'total': 2, 'successful': 1, 'failed': 0}, '_seq_no': 0, '_primary_term': 1}\n",
      "\n",
      "Search results:\n",
      "{'took': 7, 'timed_out': False, '_shards': {'total': 4, 'successful': 4, 'skipped': 0, 'failed': 0}, 'hits': {'total': {'value': 1, 'relation': 'eq'}, 'max_score': 0.13076457, 'hits': [{'_index': 'python-test-index', '_id': '1', '_score': 0.13076457, '_source': {'title': 'Moneyball', 'director': 'Bennett Miller', 'year': '2011'}}]}}\n",
      "\n",
      "Deleting document:\n",
      "{'_index': 'python-test-index', '_id': '1', '_version': 2, 'result': 'deleted', '_shards': {'total': 2, 'successful': 1, 'failed': 0}, '_seq_no': 1, '_primary_term': 1}\n",
      "\n",
      "Deleting index:\n",
      "{'acknowledged': True}\n"
     ]
    }
   ],
   "source": [
    "from opensearchpy import OpenSearch\n",
    "import os\n",
    "from dotenv import load_dotenv\n",
    "\n",
    "load_dotenv()\n",
    "\n",
    "host = 'localhost'\n",
    "port = 9200\n",
    "auth = ('admin', os.getenv('OPENSEARCH_INITIAL_ADMIN_PASSWORD')) # For testing only. Don't store credentials in code.\n",
    "ca_certs_path = '/full/path/to/root-ca.pem' # Provide a CA bundle if you use intermediate CAs with your root CA.\n",
    "\n",
    "# Optional client certificates if you don't want to use HTTP basic authentication.\n",
    "# client_cert_path = '/full/path/to/client.pem'\n",
    "# client_key_path = '/full/path/to/client-key.pem'\n",
    "\n",
    "# Create the client with SSL/TLS enabled, but hostname verification disabled.\n",
    "client = OpenSearch(\n",
    "    hosts = [{'host': host, 'port': port}],\n",
    "    http_compress = True, # enables gzip compression for request bodies\n",
    "    http_auth = auth,\n",
    "    # client_cert = client_cert_path,\n",
    "    # client_key = client_key_path,\n",
    "    use_ssl = True,\n",
    "    verify_certs = False,  # True\n",
    "    ssl_assert_hostname = False,\n",
    "    ssl_show_warn = False,\n",
    "    ca_certs = ca_certs_path\n",
    ")\n",
    "\n",
    "# Create an index with non-default settings.\n",
    "index_name = 'python-test-index'\n",
    "index_body = {\n",
    "  'settings': {\n",
    "    'index': {\n",
    "      'number_of_shards': 4\n",
    "    }\n",
    "  }\n",
    "}\n",
    "\n",
    "response = client.indices.create(index_name, body=index_body)\n",
    "print('\\nCreating index:')\n",
    "print(response)\n",
    "\n",
    "# Add a document to the index.\n",
    "document = {\n",
    "  'title': 'Moneyball',\n",
    "  'director': 'Bennett Miller',\n",
    "  'year': '2011'\n",
    "}\n",
    "id = '1'\n",
    "\n",
    "response = client.index(\n",
    "    index = index_name,\n",
    "    body = document,\n",
    "    id = id,\n",
    "    refresh = True\n",
    ")\n",
    "\n",
    "print('\\nAdding document:')\n",
    "print(response)\n",
    "\n",
    "# Perform bulk operations\n",
    "\n",
    "movies = '{ \"index\" : { \"_index\" : \"my-dsl-index\", \"_id\" : \"2\" } } \\n { \"title\" : \"Interstellar\", \"director\" : \"Christopher Nolan\", \"year\" : \"2014\"} \\n { \"create\" : { \"_index\" : \"my-dsl-index\", \"_id\" : \"3\" } } \\n { \"title\" : \"Star Trek Beyond\", \"director\" : \"Justin Lin\", \"year\" : \"2015\"} \\n { \"update\" : {\"_id\" : \"3\", \"_index\" : \"my-dsl-index\" } } \\n { \"doc\" : {\"year\" : \"2016\"} }'\n",
    "\n",
    "client.bulk(movies)\n",
    "\n",
    "# Search for the document.\n",
    "q = 'miller'\n",
    "query = {\n",
    "  'size': 5,\n",
    "  'query': {\n",
    "    'multi_match': {\n",
    "      'query': q,\n",
    "      'fields': ['title^2', 'director']\n",
    "    }\n",
    "  }\n",
    "}\n",
    "\n",
    "response = client.search(\n",
    "    body = query,\n",
    "    index = index_name\n",
    ")\n",
    "print('\\nSearch results:')\n",
    "print(response)\n",
    "\n",
    "# Delete the document.\n",
    "response = client.delete(\n",
    "    index = index_name,\n",
    "    id = id\n",
    ")\n",
    "\n",
    "print('\\nDeleting document:')\n",
    "print(response)\n",
    "\n",
    "# Delete the index.\n",
    "response = client.indices.delete(\n",
    "    index = index_name\n",
    ")\n",
    "\n",
    "print('\\nDeleting index:')\n",
    "print(response)"
   ]
  }
 ],
 "metadata": {
  "kernelspec": {
   "display_name": ".venv",
   "language": "python",
   "name": "python3"
  },
  "language_info": {
   "codemirror_mode": {
    "name": "ipython",
    "version": 3
   },
   "file_extension": ".py",
   "mimetype": "text/x-python",
   "name": "python",
   "nbconvert_exporter": "python",
   "pygments_lexer": "ipython3",
   "version": "3.12.10"
  }
 },
 "nbformat": 4,
 "nbformat_minor": 5
}
