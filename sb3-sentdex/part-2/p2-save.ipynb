{
 "cells": [
  {
   "cell_type": "code",
   "execution_count": null,
   "metadata": {
    "vscode": {
     "languageId": "plaintext"
    }
   },
   "outputs": [],
   "source": [
    "!pip3 install torch torchvision torchaudio --index-url https://download.pytorch.org/whl/cpu\n",
    "!pip install stable-baselines3[extra]\n",
    "!pip install swig --quiet\n",
    "!pip install gymnasium[box2d] --quiet"
   ]
  },
  {
   "cell_type": "code",
   "execution_count": null,
   "metadata": {
    "vscode": {
     "languageId": "plaintext"
    }
   },
   "outputs": [],
   "source": [
    "import gymnasium as gym\n",
    "\n",
    "env = gym.make(\"LunarLander-v3\")\n",
    "\n",
    "env.reset()\n",
    "\n",
    "\n",
    "\n",
    "print(\"Sample action:\", env.action_space.sample())\n",
    "\n",
    "print(\"observation space shape\", env.observation_space.shape)\n",
    "print(\"sample observation\", env.observation_space.sample())\n",
    "\n",
    "env.close()"
   ]
  },
  {
   "cell_type": "markdown",
   "metadata": {},
   "source": [
    "* Harder part of RL: Environment, observation, reward model\n",
    "* still take very long to train\n",
    "* SB3 makes it easy to make changes in environment"
   ]
  },
  {
   "cell_type": "code",
   "execution_count": null,
   "metadata": {
    "vscode": {
     "languageId": "plaintext"
    }
   },
   "outputs": [],
   "source": [
    "import gymnasium as gym\n",
    "\n",
    "env = gym.make(\"LunarLander-v3\")\n",
    "\n",
    "env.reset()\n",
    "\n",
    "\n",
    "\n",
    "\n",
    "for step in range(200):\n",
    "  env.render()\n",
    "  obs, reward, done, info = env.step(env.action_space.sample()) # Random action\n",
    "  \n",
    "  print(reward)\n",
    "\n",
    "env.close()"
   ]
  }
 ],
 "metadata": {
  "language_info": {
   "name": "python"
  }
 },
 "nbformat": 4,
 "nbformat_minor": 2
}
