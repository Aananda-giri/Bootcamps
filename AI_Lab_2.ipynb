{
  "nbformat": 4,
  "nbformat_minor": 0,
  "metadata": {
    "colab": {
      "provenance": [],
      "authorship_tag": "ABX9TyOVyy5BbRT20XV9KZm01EZY",
      "include_colab_link": true
    },
    "kernelspec": {
      "name": "python3",
      "display_name": "Python 3"
    },
    "language_info": {
      "name": "python"
    }
  },
  "cells": [
    {
      "cell_type": "markdown",
      "metadata": {
        "id": "view-in-github",
        "colab_type": "text"
      },
      "source": [
        "<a href=\"https://colab.research.google.com/github/Aananda-giri/ML_training/blob/ai-lab/AI_Lab_2.ipynb\" target=\"_parent\"><img src=\"https://colab.research.google.com/assets/colab-badge.svg\" alt=\"Open In Colab\"/></a>"
      ]
    },
    {
      "cell_type": "code",
      "execution_count": 2,
      "metadata": {
        "colab": {
          "base_uri": "https://localhost:8080/"
        },
        "id": "m5EY_xt8zvSk",
        "outputId": "447f97c9-16ab-4d90-cc36-c4951607b220"
      },
      "outputs": [
        {
          "output_type": "stream",
          "name": "stdout",
          "text": [
            "Matrix1:\n",
            "please enter the number of rows: 2\n",
            "please enter the number of columns: 2\n",
            "Please enter the elemets of the matrix1: \n",
            "element[0][0]: 5\n",
            "element[0][1]: 4\n",
            "element[1][0]: 3\n",
            "element[1][1]: 2\n",
            "please enter the number of rows: 2\n",
            "please enter the number of columns: 2\n",
            "Please enter the elemets of the matrix1: \n",
            "element[0][0]: 8\n",
            "element[0][1]: 9\n",
            "element[1][0]: 7\n",
            "element[1][1]: 6\n",
            "matrix1:  [[5, 4], [3, 2]]\n",
            "matrix1:  [[8, 9], [7, 6]]\n",
            "Addition of two matrices:  [[13 13]\n",
            " [10  8]]\n",
            "Multiplication of two matrices:  [[40 36]\n",
            " [21 12]]\n",
            "Transpose of matrix1:  [[5 3]\n",
            " [4 2]]\n"
          ]
        }
      ],
      "source": [
        "# write a python program to read Elements of a 2D list, convert it into numpy array and perform: addition, multiplication and transpose operations on the array.\n",
        "import numpy as np\n",
        "matrix1 = []\n",
        "print(\"Matrix1:\")\n",
        "n = int(input(\"please enter the number of rows: \"))\n",
        "m = int(input(\"please enter the number of columns: \"))\n",
        "print(\"Please enter the elemets of the matrix1: \")\n",
        "\n",
        "for i in range(n):\n",
        "    row = []\n",
        "    for j in range(m):\n",
        "        element = int(input(f\"element[{i}][{j}]: \"))\n",
        "        row.append(element)\n",
        "    matrix1.append(row)\n",
        "\n",
        "matrix2 = []\n",
        "n = int(input(\"please enter the number of rows: \"))\n",
        "m = int(input(\"please enter the number of columns: \"))\n",
        "print(\"Please enter the elemets of the matrix1: \")\n",
        "\n",
        "for i in range(n):\n",
        "    row = []\n",
        "    for j in range(m):\n",
        "        element = int(input(f\"element[{i}][{j}]: \"))\n",
        "        row.append(element)\n",
        "    matrix2.append(row)\n",
        "\n",
        "print(\"matrix1: \", matrix1)\n",
        "print(\"matrix1: \", matrix2)\n",
        "a=np.array(matrix1)\n",
        "b=np.array(matrix2)\n",
        "print(\"Addition of two matrices: \", a+b)\n",
        "print(\"Multiplication of two matrices: \", a*b)\n",
        "print(\"Transpose of matrix1: \", a.transpose())"
      ]
    },
    {
      "cell_type": "code",
      "source": [
        " # Write a python program to implenent keyword based simple question answering system\n",
        "print(\"------------ Simple Question Answering System: ------------ \")\n",
        "print(\"===========================================================\")\n",
        "while True:\n",
        "    query = input(\"Please enter your query: \")\n",
        "    query = query.lower()\n",
        "    if len(query) == 0:\n",
        "        break\n",
        "\n",
        "\n",
        "    question = \"what is ai\"\n",
        "    v = question.lower().find(query)\n",
        "    if v != -1:\n",
        "        print(\"Artificial intelligence (AI) refers to the simulation of human intelligence in machines that are programmed to think like humans and mimic their actions.\")\n",
        "        continue\n",
        "\n",
        "    question = \"what is rational agent\"\n",
        "    v = question.lower().find(query)\n",
        "    if v != -1:\n",
        "        print(\"A rational agent is an agent that acts so as to achieve the best outcome or, when there is uncertainty, the best expected outcome.\")\n",
        "        continue\n",
        "\n",
        "    question = \"what is turing test\"\n",
        "    v = question.lower().find(query)\n",
        "    if v != -1:\n",
        "        print(\"The Turing test, developed by Alan Turing in 1950, is a test of a machine's ability to exhibit intelligent behavior equivalent to, or indistinguishable from, that of a human.\")\n",
        "        continue\n",
        "\n",
        "    question = \"what is difference between AI and ML\"\n",
        "    v = question.lower().find(query)\n",
        "    if v != -1:\n",
        "        print(\"Artificial Intelligence (AI) is a broader concept than Machine Learning (ML), which addresses the use of computers to mimic the cognitive functions of humans.\")\n",
        "        continue\n",
        "\n",
        "    print(\"Sorry, I don't know the answer to this question.\")\n",
        "    break\n"
      ],
      "metadata": {
        "colab": {
          "base_uri": "https://localhost:8080/"
        },
        "id": "vAkOSmCW3UTd",
        "outputId": "8d8388bd-a34a-4494-c050-edefd42c335d"
      },
      "execution_count": 8,
      "outputs": [
        {
          "output_type": "stream",
          "name": "stdout",
          "text": [
            "------------ Simple Question Answering System: ------------ \n",
            "===========================================================\n",
            "Please enter your query: what is ai\n",
            "Artificial intelligence (AI) refers to the simulation of human intelligence in machines that are programmed to think like humans and mimic their actions.\n",
            "Please enter your query: ml\n",
            "Artificial Intelligence (AI) is a broader concept than Machine Learning (ML), which addresses the use of computers to mimic the cognitive functions of humans.\n",
            "Please enter your query: who are you\n",
            "Sorry, I don't know the answer to this question.\n"
          ]
        }
      ]
    }
  ]
}