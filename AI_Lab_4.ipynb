{
 "cells": [
  {
   "attachments": {},
   "cell_type": "markdown",
   "metadata": {},
   "source": [
    "![image](images/2023-06-18-20-43-09.png)"
   ]
  },
  {
   "cell_type": "code",
   "execution_count": 5,
   "metadata": {},
   "outputs": [
    {
     "name": "stdout",
     "output_type": "stream",
     "text": [
      "Goal Found!!!!!\n",
      "Solution path: ['a', 'b', 'd', 'g']\n",
      "path cost: 12\n",
      "Goal Found!!!!!\n",
      "Solution path: ['a', 'b', 'e', 'g']\n",
      "path cost: 17\n",
      "Goal Found!!!!!\n",
      "Solution path: ['a', 'c', 'd', 'g']\n",
      "path cost: 15\n",
      "Goal Found!!!!!\n",
      "Solution path: ['a', 'c', 'e', 'g']\n",
      "path cost: 13\n",
      "Goal Found!!!!!\n",
      "Solution path: ['a', 'b', 'c', 'd', 'g']\n",
      "path cost: 23\n",
      "Goal Found!!!!!\n",
      "Solution path: ['a', 'b', 'c', 'e', 'g']\n",
      "path cost: 21\n",
      "Goal Found!!!!!\n",
      "Solution path: ['a', 'b', 'e', 'd', 'g']\n",
      "path cost: 23\n",
      "Goal Found!!!!!\n",
      "Solution path: ['a', 'c', 'e', 'd', 'g']\n",
      "path cost: 19\n",
      "Goal Found!!!!!\n",
      "Solution path: ['a', 'b', 'c', 'e', 'd', 'g']\n",
      "path cost: 27\n"
     ]
    }
   ],
   "source": [
    "# Lab-4.1 Python program to implement BFS\n",
    "def calculate_path_cost(path):\n",
    "    # print(path)       # ['a', 'b', 'd', 'g']\n",
    "    path_cost = 0\n",
    "    for i in range(1, len(path)):\n",
    "        edge = path[i-1] + path[i]\n",
    "        step_cost = cost[edge]\n",
    "        path_cost += step_cost\n",
    "    return path_cost\n",
    "\n",
    "def BFS():\n",
    "    expanded = []\n",
    "    pathqueue = [[start]]\n",
    "    fringe = [start]\n",
    "    while fringe:\n",
    "        node = fringe.pop(0)\n",
    "        path = pathqueue.pop(0)\n",
    "        if node == goal:\n",
    "            print(\"Goal Found!!!!!\")\n",
    "            print(\"Solution path:\", path)\n",
    "            path_cost = calculate_path_cost(path)\n",
    "            print(f\"path cost: {path_cost}\")\n",
    "            # break # uncomment this line and it will find all the paths\n",
    "        # return\n",
    "        # elif node in expanded:\n",
    "        else:\n",
    "            neighbours = graph[node]\n",
    "            for neighbour in neighbours:\n",
    "                # if neighbour not in neighbours:\n",
    "                fringe.append(neighbour)\n",
    "                new_path = list(path)\n",
    "                new_path.append(neighbour)\n",
    "                pathqueue.append(new_path)\n",
    "            expanded.append(node)\n",
    "\n",
    "graph = {'a':['b','c'], 'b':['c','d','e'], 'c':['d','e'], 'd':['g'], 'e':['d','g']}\n",
    "cost = {'ab':5, 'ac':3, 'bc':6, 'bd':2, 'be':8, 'cd':7, 'ce':6, 'dg':5, 'ed':5, 'eg':4}\n",
    "start = 'a'\n",
    "goal = 'g'\n",
    "BFS()"
   ]
  },
  {
   "cell_type": "code",
   "execution_count": 9,
   "metadata": {},
   "outputs": [
    {
     "name": "stdout",
     "output_type": "stream",
     "text": [
      "Goal Found!!!!!\n",
      "Solution path: ['a', 'c', 'e', 'g']\n",
      "path cost: 13\n",
      "Goal Found!!!!!\n",
      "Solution path: ['a', 'c', 'e', 'd', 'g']\n",
      "path cost: 19\n",
      "Goal Found!!!!!\n",
      "Solution path: ['a', 'c', 'd', 'g']\n",
      "path cost: 15\n",
      "Goal Found!!!!!\n",
      "Solution path: ['a', 'b', 'e', 'g']\n",
      "path cost: 17\n",
      "Goal Found!!!!!\n",
      "Solution path: ['a', 'b', 'e', 'd', 'g']\n",
      "path cost: 23\n",
      "Goal Found!!!!!\n",
      "Solution path: ['a', 'b', 'd', 'g']\n",
      "path cost: 12\n",
      "Goal Found!!!!!\n",
      "Solution path: ['a', 'b', 'c', 'e', 'g']\n",
      "path cost: 21\n",
      "Goal Found!!!!!\n",
      "Solution path: ['a', 'b', 'c', 'e', 'd', 'g']\n",
      "path cost: 27\n",
      "Goal Found!!!!!\n",
      "Solution path: ['a', 'b', 'c', 'd', 'g']\n",
      "path cost: 23\n"
     ]
    }
   ],
   "source": [
    "# Lab 4.2 : Python program to implement DFS\n",
    "def calculate_path_cost(path):\n",
    "    # print(path)       # ['a', 'b', 'd', 'g']\n",
    "    path_cost = 0\n",
    "    for i in range(1, len(path)):\n",
    "        edge = path[i-1] + path[i]\n",
    "        step_cost = cost[edge]\n",
    "        path_cost += step_cost\n",
    "    return path_cost\n",
    "\n",
    "start = 'a'\n",
    "expanded = []\n",
    "pathqueue = [start]\n",
    "fringe = [start]\n",
    "\n",
    "def DFS():    \n",
    "    while fringe:\n",
    "        node = fringe.pop(0)\n",
    "        path = pathqueue.pop(0)\n",
    "        if node == goal:\n",
    "            print(\"Goal Found!!!!!\")\n",
    "            print(\"Solution path:\", path)\n",
    "            path_cost = calculate_path_cost(path)\n",
    "            print(f\"path cost: {path_cost}\")\n",
    "            # break # uncomment this line and it will find all the paths\n",
    "        # return\n",
    "        # elif node in expanded:\n",
    "        else:\n",
    "            neighbours = graph[node]\n",
    "            for neighbour in neighbours:\n",
    "                # if neighbour not in neighbours:\n",
    "                fringe.insert(0, neighbour)\n",
    "                new_path = list(path)\n",
    "                new_path.append(neighbour)\n",
    "                pathqueue.insert(0, new_path)\n",
    "            expanded.append(node)\n",
    "graph = {'a':['b','c'], 'b':['c','d','e'], 'c':['d','e'], 'd':['g'], 'e':['d','g']}\n",
    "cost = {'ab':5, 'ac':3, 'bc':6, 'bd':2, 'be':8, 'cd':7, 'ce':6, 'dg':5, 'ed':5, 'eg':4}\n",
    "start = 'a'\n",
    "goal = 'g'\n",
    "DFS()"
   ]
  },
  {
   "cell_type": "code",
   "execution_count": null,
   "metadata": {},
   "outputs": [],
   "source": [
    "# "
   ]
  }
 ],
 "metadata": {
  "kernelspec": {
   "display_name": "machine_env",
   "language": "python",
   "name": "python3"
  },
  "language_info": {
   "codemirror_mode": {
    "name": "ipython",
    "version": 3
   },
   "file_extension": ".py",
   "mimetype": "text/x-python",
   "name": "python",
   "nbconvert_exporter": "python",
   "pygments_lexer": "ipython3",
   "version": "3.11.3"
  },
  "orig_nbformat": 4
 },
 "nbformat": 4,
 "nbformat_minor": 2
}
