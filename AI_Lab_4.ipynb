{
 "cells": [
  {
   "cell_type": "code",
   "execution_count": 1,
   "metadata": {},
   "outputs": [
    {
     "name": "stdout",
     "output_type": "stream",
     "text": [
      "Goal Found!!!!!\n",
      "Solution path: ['a', 'b', 'd', 'g']\n",
      "path cost: 12\n",
      "Goal Found!!!!!\n",
      "Solution path: ['a', 'b', 'e', 'g']\n",
      "path cost: 17\n",
      "Goal Found!!!!!\n",
      "Solution path: ['a', 'c', 'd', 'g']\n",
      "path cost: 15\n",
      "Goal Found!!!!!\n",
      "Solution path: ['a', 'c', 'e', 'g']\n",
      "path cost: 13\n",
      "Goal Found!!!!!\n",
      "Solution path: ['a', 'b', 'c', 'd', 'g']\n",
      "path cost: 23\n",
      "Goal Found!!!!!\n",
      "Solution path: ['a', 'b', 'c', 'e', 'g']\n",
      "path cost: 21\n",
      "Goal Found!!!!!\n",
      "Solution path: ['a', 'b', 'e', 'd', 'g']\n"
     ]
    },
    {
     "ename": "KeyError",
     "evalue": "'ed'",
     "output_type": "error",
     "traceback": [
      "\u001b[0;31m---------------------------------------------------------------------------\u001b[0m",
      "\u001b[0;31mKeyError\u001b[0m                                  Traceback (most recent call last)",
      "Cell \u001b[0;32mIn[1], line 40\u001b[0m\n\u001b[1;32m     38\u001b[0m start \u001b[39m=\u001b[39m \u001b[39m'\u001b[39m\u001b[39ma\u001b[39m\u001b[39m'\u001b[39m\n\u001b[1;32m     39\u001b[0m goal \u001b[39m=\u001b[39m \u001b[39m'\u001b[39m\u001b[39mg\u001b[39m\u001b[39m'\u001b[39m\n\u001b[0;32m---> 40\u001b[0m BFS()\n",
      "Cell \u001b[0;32mIn[1], line 21\u001b[0m, in \u001b[0;36mBFS\u001b[0;34m()\u001b[0m\n\u001b[1;32m     19\u001b[0m     \u001b[39mprint\u001b[39m(\u001b[39m\"\u001b[39m\u001b[39mGoal Found!!!!!\u001b[39m\u001b[39m\"\u001b[39m)\n\u001b[1;32m     20\u001b[0m     \u001b[39mprint\u001b[39m(\u001b[39m\"\u001b[39m\u001b[39mSolution path:\u001b[39m\u001b[39m\"\u001b[39m, path)\n\u001b[0;32m---> 21\u001b[0m     path_cost \u001b[39m=\u001b[39m calculate_path_cost(path)\n\u001b[1;32m     22\u001b[0m     \u001b[39mprint\u001b[39m(\u001b[39mf\u001b[39m\u001b[39m\"\u001b[39m\u001b[39mpath cost: \u001b[39m\u001b[39m{\u001b[39;00mpath_cost\u001b[39m}\u001b[39;00m\u001b[39m\"\u001b[39m)\n\u001b[1;32m     23\u001b[0m     \u001b[39m# break # uncomment this line and it will find all the paths\u001b[39;00m\n\u001b[1;32m     24\u001b[0m \u001b[39m# return\u001b[39;00m\n\u001b[1;32m     25\u001b[0m \u001b[39m# elif node in expanded:\u001b[39;00m\n\u001b[1;32m     26\u001b[0m \u001b[39melse\u001b[39;00m:\n",
      "Cell \u001b[0;32mIn[1], line 7\u001b[0m, in \u001b[0;36mcalculate_path_cost\u001b[0;34m(path)\u001b[0m\n\u001b[1;32m      5\u001b[0m \u001b[39mfor\u001b[39;00m i \u001b[39min\u001b[39;00m \u001b[39mrange\u001b[39m(\u001b[39m1\u001b[39m, \u001b[39mlen\u001b[39m(path)):\n\u001b[1;32m      6\u001b[0m     edge \u001b[39m=\u001b[39m path[i\u001b[39m-\u001b[39m\u001b[39m1\u001b[39m] \u001b[39m+\u001b[39m path[i]\n\u001b[0;32m----> 7\u001b[0m     step_cost \u001b[39m=\u001b[39m cost[edge]\n\u001b[1;32m      8\u001b[0m     path_cost \u001b[39m+\u001b[39m\u001b[39m=\u001b[39m step_cost\n\u001b[1;32m      9\u001b[0m \u001b[39mreturn\u001b[39;00m path_cost\n",
      "\u001b[0;31mKeyError\u001b[0m: 'ed'"
     ]
    }
   ],
   "source": [
    "# Lab-4.1 Python program to implement BFS\n",
    "def calculate_path_cost(path):\n",
    "    # print(path)       # ['a', 'b', 'd', 'g']\n",
    "    path_cost = 0\n",
    "    for i in range(1, len(path)):\n",
    "        edge = path[i-1] + path[i]\n",
    "        step_cost = cost[edge]\n",
    "        path_cost += step_cost\n",
    "    return path_cost\n",
    "\n",
    "def BFS():\n",
    "    expanded = []\n",
    "    pathqueue = [[start]]\n",
    "    fringe = [start]\n",
    "    while fringe:\n",
    "        node = fringe.pop(0)\n",
    "        path = pathqueue.pop(0)\n",
    "        if node == goal:\n",
    "            print(\"Goal Found!!!!!\")\n",
    "            print(\"Solution path:\", path)\n",
    "            path_cost = calculate_path_cost(path)\n",
    "            print(f\"path cost: {path_cost}\")\n",
    "            # break # uncomment this line and it will find all the paths\n",
    "        # return\n",
    "        # elif node in expanded:\n",
    "        else:\n",
    "            neighbours = graph[node]\n",
    "            for neighbour in neighbours:\n",
    "                # if neighbour not in neighbours:\n",
    "                fringe.append(neighbour)\n",
    "                new_path = list(path)\n",
    "                new_path.append(neighbour)\n",
    "                pathqueue.append(new_path)\n",
    "            expanded.append(node)\n",
    "\n",
    "graph = {'a':['b','c'], 'b':['c','d','e'], 'c':['d','e'], 'd':['g'], 'e':['d','g']}\n",
    "cost = {'ab':5, 'ac':3, 'bc':6, 'bd':2, 'be':8, 'cd':7, 'ce':6, 'dg':5, 'eg':4}\n",
    "start = 'a'\n",
    "goal = 'g'\n",
    "BFS()"
   ]
  },
  {
   "attachments": {},
   "cell_type": "markdown",
   "metadata": {},
   "source": [
    "[!image](images/2023-06-18-20-43-09.png)"
   ]
  }
 ],
 "metadata": {
  "kernelspec": {
   "display_name": "machine_env",
   "language": "python",
   "name": "python3"
  },
  "language_info": {
   "codemirror_mode": {
    "name": "ipython",
    "version": 3
   },
   "file_extension": ".py",
   "mimetype": "text/x-python",
   "name": "python",
   "nbconvert_exporter": "python",
   "pygments_lexer": "ipython3",
   "version": "3.11.3"
  },
  "orig_nbformat": 4
 },
 "nbformat": 4,
 "nbformat_minor": 2
}
