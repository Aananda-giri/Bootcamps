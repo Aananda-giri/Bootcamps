{
  "nbformat": 4,
  "nbformat_minor": 0,
  "metadata": {
    "colab": {
      "provenance": []
    },
    "kernelspec": {
      "name": "python3",
      "display_name": "Python 3"
    },
    "language_info": {
      "name": "python"
    }
  },
  "cells": [
    {
      "cell_type": "markdown",
      "source": [
        "**3.14 Exercises**\n",
        "\n",
        "1. Create a tensor `a` from `list(range(9))`. Predict and then check the size, offset, and stride.\n",
        "    a. Create a new tensor using `b = a.view(3, 3)`. What does `view` do? Check that `a` and `b` share the same storage.\n",
        "    b. Create a tensor `c = b[1:,1:]`. Predict and then check the size, offset, and stride.\n",
        "\n",
        "2. Pick a mathematical operation like cosine or square root. Can you find a corresponding function in the `torch` library?\n",
        "    a. Apply the function element-wise to `a`. Why does it return an error?\n",
        "    b. What operation is required to make the function work?\n",
        "    c. Is there a version of your function that operates in place?"
      ],
      "metadata": {
        "id": "7XNAhnV1pAJO"
      }
    },
    {
      "cell_type": "code",
      "source": [
        "# tensor from list(range(9))\n",
        "import torch\n",
        "a = torch.tensor(list(range(9)))"
      ],
      "metadata": {
        "id": "0ULScr6xpH8f"
      },
      "execution_count": 3,
      "outputs": []
    },
    {
      "cell_type": "code",
      "source": [
        "a.stride()"
      ],
      "metadata": {
        "colab": {
          "base_uri": "https://localhost:8080/"
        },
        "id": "o89abM1Fpd_T",
        "outputId": "415dd3d4-318c-490d-ae7a-891587242fc8"
      },
      "execution_count": 7,
      "outputs": [
        {
          "output_type": "execute_result",
          "data": {
            "text/plain": [
              "(1,)"
            ]
          },
          "metadata": {},
          "execution_count": 7
        }
      ]
    },
    {
      "cell_type": "code",
      "source": [
        "# a. Create a new tensor using b = a.view(3, 3)\n",
        "'''\n",
        "view creates a view for existinig tensor without modifying underlying storate\n",
        "'''\n",
        "\n",
        "b=a.view(3, 3)\n",
        "print(a.storage(), b.storage(), '\\n\\n', id(b.storage())==id(a.storage()))\n"
      ],
      "metadata": {
        "colab": {
          "base_uri": "https://localhost:8080/"
        },
        "id": "TYeK4jhMpV9z",
        "outputId": "23c774b3-084f-4d2b-8da0-5253f80027c2"
      },
      "execution_count": 21,
      "outputs": [
        {
          "output_type": "stream",
          "name": "stdout",
          "text": [
            " 0\n",
            " 1\n",
            " 2\n",
            " 3\n",
            " 4\n",
            " 5\n",
            " 6\n",
            " 7\n",
            " 8\n",
            "[torch.storage.TypedStorage(dtype=torch.int64, device=cpu) of size 9]  0\n",
            " 1\n",
            " 2\n",
            " 3\n",
            " 4\n",
            " 5\n",
            " 6\n",
            " 7\n",
            " 8\n",
            "[torch.storage.TypedStorage(dtype=torch.int64, device=cpu) of size 9] \n",
            "\n",
            " True\n"
          ]
        }
      ]
    },
    {
      "cell_type": "code",
      "source": [
        "c = b[1:,1:]\n",
        "# predicted: c has size 2,2,  offset 0, stride 2,1\n",
        "# turned out offset is 4 (because b[1:,1:] creates tensor from 2nd row 2nd element of original 3*3 tensor) and stride remains unchanged\n",
        "print(f' size: {c.size()}, offset:{c.storage_offset()}, stride:{c.stride()}')"
      ],
      "metadata": {
        "colab": {
          "base_uri": "https://localhost:8080/"
        },
        "id": "n0a2ORTiqWN_",
        "outputId": "0664af9b-42c0-45e6-89ab-a60f94cf2dd6"
      },
      "execution_count": 23,
      "outputs": [
        {
          "output_type": "stream",
          "name": "stdout",
          "text": [
            " size: torch.Size([2, 2]), offset:4, stride:(3, 1)\n"
          ]
        }
      ]
    },
    {
      "cell_type": "code",
      "source": [
        "c.storage()"
      ],
      "metadata": {
        "colab": {
          "base_uri": "https://localhost:8080/"
        },
        "id": "sLayb8mQrgMp",
        "outputId": "2277f2a4-22c6-4d1c-a6e2-76dff0a1c676"
      },
      "execution_count": 22,
      "outputs": [
        {
          "output_type": "execute_result",
          "data": {
            "text/plain": [
              " 0\n",
              " 1\n",
              " 2\n",
              " 3\n",
              " 4\n",
              " 5\n",
              " 6\n",
              " 7\n",
              " 8\n",
              "[torch.storage.TypedStorage(dtype=torch.int64, device=cpu) of size 9]"
            ]
          },
          "metadata": {},
          "execution_count": 22
        }
      ]
    },
    {
      "cell_type": "code",
      "source": [
        "torch.sqrt(a)"
      ],
      "metadata": {
        "colab": {
          "base_uri": "https://localhost:8080/"
        },
        "id": "vnJhGBcosmSO",
        "outputId": "0ecc14f2-a911-454c-f0cd-a489ec1efb0f"
      },
      "execution_count": 25,
      "outputs": [
        {
          "output_type": "execute_result",
          "data": {
            "text/plain": [
              "tensor([0.0000, 1.0000, 1.4142, 1.7321, 2.0000, 2.2361, 2.4495, 2.6458, 2.8284])"
            ]
          },
          "metadata": {},
          "execution_count": 25
        }
      ]
    }
  ]
}