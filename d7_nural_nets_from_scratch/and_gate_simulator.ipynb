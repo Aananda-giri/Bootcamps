{
 "cells": [
  {
   "attachments": {},
   "cell_type": "markdown",
   "metadata": {},
   "source": [
    "## Neural Network Working\n",
    "![Alt text](../IMG_20230103_212307.jpg)"
   ]
  },
  {
   "attachments": {},
   "cell_type": "markdown",
   "metadata": {},
   "source": [
    "## Backpropagation\n",
    "![Alt text](../IMG_20230103_212445.jpg)"
   ]
  },
  {
   "cell_type": "code",
   "execution_count": 53,
   "metadata": {},
   "outputs": [
    {
     "name": "stdout",
     "output_type": "stream",
     "text": [
      " training: \n",
      "------------------\n",
      "x1: \t x2: \t out<actual>: \t z<predict>: \t sigmoid(z): \n",
      "epoch: \t loss: \t\t w1:  \t w2:  \t b:\n",
      "0 \t 0.6035 \t 0.456 \t 0.369 \t 0.3478\n",
      "0 \t 0.6719 \t 0.456 \t 0.2949 \t 0.2737\n",
      "0 \t 0.6747 \t 0.382 \t 0.2949 \t 0.1997\n",
      "0 \t -0.2939 \t 0.4125 \t 0.3254 \t 0.2302\n",
      "\n",
      "\n",
      "1 \t 0.5573 \t 0.4125 \t 0.3254 \t 0.1614\n",
      "1 \t 0.6194 \t 0.4125 \t 0.2524 \t 0.0884\n",
      "1 \t 0.6227 \t 0.3393 \t 0.2524 \t 0.0153\n",
      "1 \t -0.3527 \t 0.3796 \t 0.2927 \t 0.0556\n",
      "\n",
      "\n",
      "2 \t 0.5139 \t 0.3796 \t 0.2927 \t -0.0086\n",
      "2 \t 0.5705 \t 0.3796 \t 0.2228 \t -0.0785\n",
      "2 \t 0.5747 \t 0.3093 \t 0.2228 \t -0.1488\n",
      "2 \t -0.4053 \t 0.3582 \t 0.2716 \t -0.0999\n",
      "\n",
      "\n",
      " prediction: \n",
      "------------------\n",
      "x1: \t x2: \t\t out<actual>: \t\t z<predict>: \t sigmoid(z): \n",
      " 0 \t 0 \t\t 0 \t\t\t 0 \t\t 0.4750409927018785\n",
      " 0 \t 1 \t\t 0 \t\t\t 0 \t\t 0.5428254724967732\n",
      " 1 \t 0 \t\t 0 \t\t\t 0 \t\t 0.564209959133124\n",
      " 1 \t 1 \t\t 1 \t\t\t 1 \t\t 0.6294615600638832\n"
     ]
    }
   ],
   "source": [
    "import math\n",
    "\n",
    "# AND gate data\n",
    "data = [[0,0,0], [0,1,0], [1,0,0], [1,1,1]]\n",
    "w1 = 0.456\n",
    "w2 = 0.369\n",
    "b = 0.42\n",
    "alpha = 0.25\n",
    "\n",
    "def sigmoid(z):\n",
    "    # formula of sigmoid\n",
    "    return 1/(1+math.exp(-z))\n",
    "\n",
    "def calc_z(x1, x2, w1, w2, b):\n",
    "    return w1*x1+w2*x2+b\n",
    "\n",
    "# prediction\n",
    "print(' training: ')\n",
    "print('------------------')\n",
    "print(f'x1: \\t x2: \\t out<actual>: \\t z<predict>: \\t sigmoid(z): ')\n",
    "print(f'epoch: \\t loss: \\t\\t w1:  \\t w2:  \\t b:')\n",
    "for j in range(3):\n",
    "    for i in range(4):\n",
    "        x1 = data[i%4][0]\n",
    "        x2 = data[i%4][1]\n",
    "        out = data[i%4][2]\n",
    "\n",
    "        z = calc_z(x1, x2, w1, w2, b)\n",
    "        \n",
    "\n",
    "        # backpropagation\n",
    "        w1 -= 2*alpha*(sigmoid(z)-out)*(sigmoid(z))*(1-sigmoid(z))*x1\n",
    "        w2 -= 2*alpha*(sigmoid(z)-out)*(sigmoid(z))*(1-sigmoid(z))*x2\n",
    "        b -= 2*alpha*(sigmoid(z)-out)*(sigmoid(z))*(1-sigmoid(z))\n",
    "        print(f'{j} \\t {round(sigmoid(z)-out,4)} \\t {round(w1,4)} \\t {round(w2,4)} \\t {round(b,4)}')\n",
    "    print('\\n')\n",
    "\n",
    "# prediction\n",
    "print(' prediction: ')\n",
    "print('------------------')\n",
    "print(f'x1: \\t x2: \\t\\t out<actual>: \\t\\t z<predict>: \\t sigmoid(z): ')\n",
    "for i in range(4):\n",
    "    x1 = data[i][0]\n",
    "    x2 = data[i][1]\n",
    "    out = data[i][2]\n",
    "\n",
    "    z = calc_z(x1, x2, w1, w2, b)\n",
    "    print(f' {x1} \\t {x2} \\t\\t {out} \\t\\t\\t {round(z)} \\t\\t {sigmoid(z)}')"
   ]
  }
 ],
 "metadata": {
  "kernelspec": {
   "display_name": "py_39",
   "language": "python",
   "name": "python3"
  },
  "language_info": {
   "codemirror_mode": {
    "name": "ipython",
    "version": 3
   },
   "file_extension": ".py",
   "mimetype": "text/x-python",
   "name": "python",
   "nbconvert_exporter": "python",
   "pygments_lexer": "ipython3",
   "version": "3.9.15"
  },
  "orig_nbformat": 4,
  "vscode": {
   "interpreter": {
    "hash": "8623a6d2b2f684a36d917583bbf9fb4dd3cd9028024f04425ddc24ab2eb2e9a0"
   }
  }
 },
 "nbformat": 4,
 "nbformat_minor": 2
}
