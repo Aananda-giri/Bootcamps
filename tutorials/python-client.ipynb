{
 "cells": [
  {
   "cell_type": "markdown",
   "metadata": {},
   "source": [
    "* Reference: https://docs.opensearch.org/docs/latest/clients/python-low-level/"
   ]
  },
  {
   "cell_type": "code",
   "execution_count": 17,
   "metadata": {},
   "outputs": [
    {
     "name": "stdout",
     "output_type": "stream",
     "text": [
      "Defaulting to user installation because normal site-packages is not writeable\n",
      "Requirement already satisfied: opensearch-py in /home/anon-labs/.var/app/com.visualstudio.code-oss/data/python/lib/python3.10/site-packages (3.0.0)\n",
      "Requirement already satisfied: urllib3!=2.2.0,!=2.2.1,<3,>=1.26.19 in /home/anon-labs/.var/app/com.visualstudio.code-oss/data/python/lib/python3.10/site-packages (from opensearch-py) (2.5.0)\n",
      "Requirement already satisfied: requests<3.0.0,>=2.32.0 in /home/anon-labs/.var/app/com.visualstudio.code-oss/data/python/lib/python3.10/site-packages (from opensearch-py) (2.32.4)\n",
      "Requirement already satisfied: python-dateutil in /home/anon-labs/.var/app/com.visualstudio.code-oss/data/python/lib/python3.10/site-packages (from opensearch-py) (2.9.0.post0)\n",
      "Requirement already satisfied: certifi>=2024.07.04 in /home/anon-labs/.var/app/com.visualstudio.code-oss/data/python/lib/python3.10/site-packages (from opensearch-py) (2025.6.15)\n",
      "Requirement already satisfied: Events in /home/anon-labs/.var/app/com.visualstudio.code-oss/data/python/lib/python3.10/site-packages (from opensearch-py) (0.5)\n",
      "Requirement already satisfied: charset_normalizer<4,>=2 in /home/anon-labs/.var/app/com.visualstudio.code-oss/data/python/lib/python3.10/site-packages (from requests<3.0.0,>=2.32.0->opensearch-py) (3.4.2)\n",
      "Requirement already satisfied: idna<4,>=2.5 in /home/anon-labs/.var/app/com.visualstudio.code-oss/data/python/lib/python3.10/site-packages (from requests<3.0.0,>=2.32.0->opensearch-py) (3.10)\n",
      "Requirement already satisfied: six>=1.5 in /usr/lib/python3.10/site-packages (from python-dateutil->opensearch-py) (1.16.0)\n"
     ]
    }
   ],
   "source": [
    "!pip install opensearch-py"
   ]
  },
  {
   "cell_type": "code",
   "execution_count": 26,
   "metadata": {},
   "outputs": [],
   "source": [
    "# Connecting to  open Search\n",
    "from opensearchpy import OpenSearch\n",
    "import os\n",
    "from dotenv import load_dotenv\n",
    "load_dotenv()\n",
    "\n",
    "# Run the docker\n",
    "host = 'localhost'\n",
    "port = 9200\n",
    "auth = ('admin', os.environ.get('OPENSEARCH_INITIAL_ADMIN_PASSWORD', 'admin')) # For testing only. Don't store credentials in code.\n",
    "use_ssl=True\n",
    "verify_certs=False\n",
    "\n",
    "client = OpenSearch(\n",
    "    hosts=[{'host': host, 'port': port}],\n",
    "    http_compress=True,\n",
    "    http_auth=auth,\n",
    "    use_ssl=use_ssl,\n",
    "    verify_certs=verify_certs,\n",
    "    ssl_assert_hostname=False,\n",
    "    ssl_show_warn=False,\n",
    "    timeout=60  # Increase timeout to handle slower connections\n",
    ")"
   ]
  },
  {
   "cell_type": "code",
   "execution_count": 27,
   "metadata": {},
   "outputs": [],
   "source": [
    "# creating an index\n",
    "index_name = 'python-test-index'\n",
    "index_body = {\n",
    "  'settings': {\n",
    "    'index': {\n",
    "      'number_of_shards': 2\n",
    "    }\n",
    "  }\n",
    "}\n",
    "\n",
    "response = client.indices.create(index_name, body=index_body)"
   ]
  },
  {
   "cell_type": "code",
   "execution_count": 28,
   "metadata": {},
   "outputs": [],
   "source": [
    "# Indexing the document\n",
    "document = {\n",
    "  'title': 'Moneyball',\n",
    "  'director': 'Bennett Miller',\n",
    "  'year': '2011'\n",
    "}\n",
    "\n",
    "response = client.index(\n",
    "    index = 'python-test-index',\n",
    "    body = document,\n",
    "    id = '1',\n",
    "    refresh = True\n",
    ")"
   ]
  },
  {
   "cell_type": "markdown",
   "metadata": {},
   "source": [
    "## performing bulk operations\n",
    "* operations may be of same or different type\n",
    "- oeprations must be single string and seperated by \\n"
   ]
  },
  {
   "cell_type": "code",
   "execution_count": 31,
   "metadata": {},
   "outputs": [
    {
     "data": {
      "text/plain": [
       "{'took': 9,\n",
       " 'errors': True,\n",
       " 'items': [{'index': {'_index': 'my-dsl-index',\n",
       "    '_id': '2',\n",
       "    '_version': 2,\n",
       "    'result': 'updated',\n",
       "    '_shards': {'total': 2, 'successful': 1, 'failed': 0},\n",
       "    '_seq_no': 3,\n",
       "    '_primary_term': 1,\n",
       "    'status': 200}},\n",
       "  {'create': {'_index': 'my-dsl-index',\n",
       "    '_id': '3',\n",
       "    'status': 409,\n",
       "    'error': {'type': 'version_conflict_engine_exception',\n",
       "     'reason': '[3]: version conflict, document already exists (current version [2])',\n",
       "     'index': 'my-dsl-index',\n",
       "     'shard': '0',\n",
       "     'index_uuid': '68VS1SqqTh6t_nOzxwbkow'}}},\n",
       "  {'update': {'_index': 'my-dsl-index',\n",
       "    '_id': '3',\n",
       "    '_version': 2,\n",
       "    'result': 'noop',\n",
       "    '_shards': {'total': 2, 'successful': 1, 'failed': 0},\n",
       "    '_seq_no': 2,\n",
       "    '_primary_term': 1,\n",
       "    'status': 200}}]}"
      ]
     },
     "execution_count": 31,
     "metadata": {},
     "output_type": "execute_result"
    }
   ],
   "source": [
    "\n",
    "movies = '{ \"index\" : { \"_index\" : \"my-dsl-index\", \"_id\" : \"2\" } } \\n { \"title\" : \"Interstellar\", \"director\" : \"Christopher Nolan\", \"year\" : \"2014\"} \\n { \"create\" : { \"_index\" : \"my-dsl-index\", \"_id\" : \"3\" } } \\n { \"title\" : \"Star Trek Beyond\", \"director\" : \"Justin Lin\", \"year\" : \"2015\"} \\n { \"update\" : {\"_id\" : \"3\", \"_index\" : \"my-dsl-index\" } } \\n { \"doc\" : {\"year\" : \"2016\"} }'\n",
    "\n",
    "client.bulk(movies)"
   ]
  },
  {
   "attachments": {},
   "cell_type": "markdown",
   "metadata": {},
   "source": [
    "## Searching for documents\n",
    "* using multi-match query to search for “miller” in the title and director fields\n",
    "* boost the document that have \"miller\" in title field"
   ]
  },
  {
   "cell_type": "code",
   "execution_count": 32,
   "metadata": {},
   "outputs": [
    {
     "data": {
      "text/plain": [
       "{'took': 11,\n",
       " 'timed_out': False,\n",
       " '_shards': {'total': 2, 'successful': 2, 'skipped': 0, 'failed': 0},\n",
       " 'hits': {'total': {'value': 1, 'relation': 'eq'},\n",
       "  'max_score': 0.13076457,\n",
       "  'hits': [{'_index': 'python-test-index',\n",
       "    '_id': '1',\n",
       "    '_score': 0.13076457,\n",
       "    '_source': {'title': 'Moneyball',\n",
       "     'director': 'Bennett Miller',\n",
       "     'year': '2011'}}]}}"
      ]
     },
     "execution_count": 32,
     "metadata": {},
     "output_type": "execute_result"
    }
   ],
   "source": [
    "\n",
    "q = 'miller'\n",
    "query = {\n",
    "  'size': 5,\n",
    "  'query': {\n",
    "    'multi_match': {\n",
    "      'query': q,\n",
    "      'fields': ['title^2', 'director']\n",
    "    }\n",
    "  }\n",
    "}\n",
    "\n",
    "response = client.search(\n",
    "    body = query,\n",
    "    index = 'python-test-index'\n",
    ")\n",
    "response"
   ]
  },
  {
   "cell_type": "markdown",
   "metadata": {},
   "source": [
    "## Deleting a document\n",
    "- we cna delete a document using client.delete"
   ]
  },
  {
   "cell_type": "code",
   "execution_count": 33,
   "metadata": {},
   "outputs": [],
   "source": [
    "response = client.delete(\n",
    "    index='python-test-index',\n",
    "    id = '1'\n",
    ")"
   ]
  },
  {
   "attachments": {},
   "cell_type": "markdown",
   "metadata": {},
   "source": [
    "## Deleting an index\n",
    "- we can delete an index using client.indices.delete"
   ]
  },
  {
   "cell_type": "code",
   "execution_count": 34,
   "metadata": {},
   "outputs": [],
   "source": [
    "response = client.indices.delete(\n",
    "    index='python-test-index'\n",
    ")"
   ]
  }
 ],
 "metadata": {
  "kernelspec": {
   "display_name": ".venv",
   "language": "python",
   "name": "python3"
  },
  "language_info": {
   "codemirror_mode": {
    "name": "ipython",
    "version": 3
   },
   "file_extension": ".py",
   "mimetype": "text/x-python",
   "name": "python",
   "nbconvert_exporter": "python",
   "pygments_lexer": "ipython3",
   "version": "3.12.10"
  },
  "orig_nbformat": 4,
  "vscode": {
   "interpreter": {
    "hash": "f367d9410f902ec864210f01148de249673bbf69ab846e1c755e018399645ef7"
   }
  }
 },
 "nbformat": 4,
 "nbformat_minor": 2
}
